{
  "cells": [
    {
      "cell_type": "markdown",
      "metadata": {
        "id": "view-in-github",
        "colab_type": "text"
      },
      "source": [
        "<a href=\"https://colab.research.google.com/github/GEKT0R9/asu-edu-data-analysis/blob/main/lab4.ipynb\" target=\"_parent\"><img src=\"https://colab.research.google.com/assets/colab-badge.svg\" alt=\"Open In Colab\"/></a>"
      ]
    },
    {
      "cell_type": "markdown",
      "metadata": {
        "id": "nibF95LX5YNW"
      },
      "source": [
        "# Анализ и обработка результатов\n",
        "\n",
        "В анализе данных важно наглядное представление результатов, чтобы их мог оценить заказчик. Это бизнес, где на кону громадный трафик, серверные мощности, личное время многотысячной аудитории. И одновременно это исследование.\n",
        "\n",
        "Как в настоящей экспериментальной науке, ответ непредсказуем. Его точность зависит от умелого владения статистическими методами и от качества исходных данных. Перед тем, как начинать считать, проверьте, грамотно ли ваши данные подготовлены.\n",
        "\n",
        "# Группировка данных\n",
        "\n",
        "Слово «анализ» означает разбор, рассмотрение с разных сторон. Анализ данных начинают с разделения их на группы по какому-нибудь признаку. Эта операция называется группировка данных. Она помогает изучить материал более подробно, чтобы затем перейти к поиску взаимосвязей между отдельными группами.\n",
        "\n",
        "\n",
        "Группировка оправданна, если данные чётко делятся по значимому признаку, а полученные группы близки к теме задачи. Например, когда есть данные обо всех покупках в супермаркете, можно смело заниматься группировкой. Так можно установить время наплыва покупателей и решить проблему пиковых нагрузок. Или посчитать средний чек — обычно для магазинов это ключевая метрика.\n",
        "\n",
        "\n",
        "Стадии группировки хорошо укладываются в словесную формулу **split-apply-combine**:\n",
        "\n",
        "•\tразделить, **split** — разбиение на группы по определённому критерию;\n",
        "\n",
        "•\tприменить, **apply** — применение какого-либо метода к каждой группе в отдельности, например, подсчёт численности группы методом count() или суммирование вызовом sum();\n",
        "\n",
        "•\tобъединить, **combine** — сведение результатов в новую структуру данных, в зависимости от условий разделения и выполнения метода это бывает DataFrame и Series.\n",
        "\n",
        "На картинке изображен принцип **split-apply-combine** для таблицы с экзопланетами. Посмотрим, как вообще идут дела с поиском экзопланет. Сначала данные делят по группам, где каждая группа — это год. Потом метод **count()** подсчитывает численность каждой группы. В итоге получаем новую структуру данных с группами, где каждая содержит год и число открытых за этот год экзопланет.\n",
        "\n",
        "![image.png](attachment:image.png)\n",
        "\n",
        "В Рandas для группировки данных есть метод **groupby()**. Он принимает как аргумент название столбца, по которому нужно группировать. В случае с делением экзопланет по годам открытия:\n",
        "\n",
        "**print(exoplanet.groupby('discovered'))**\n",
        "\n",
        "**<pandas.core.groupby.DataFrameGroupBy object at 0x7fc1e1ca3400>**\n",
        "\n",
        "\n",
        "Применение метода **groupby()** к объекту типа DataFrame приводит к созданию объекта особого типа — **DataFrameGroupBy**. Это сгруппированные данные. Если применить к ним какой-нибудь метод Pandas, они станут новой структурой данных типа **DataFrame** или **Series**.\n",
        "Подсчитаем сгруппированные по годам экзопланеты методом **count()**:\n",
        "\n",
        "Если нужно сравнить наблюдения по одному показателю, метод применяют к **DataFrameGroupBy** с указанием на один столбец. Нас в первую очередь интересует радиус экзопланет: мы ищем другую Землю. Давайте получим таблицу с единственным столбцом 'radius':\n",
        "\n",
        "**exo_number = exoplanet.groupby('discovered')['radius'].count()**\n",
        "\n",
        "**print(exo_number)**\n",
        "\n",
        "Получили Series, где по годам открытия расписано количество экзопланет, для которых удалось установить радиус.\n",
        "\n",
        "Посмотрим, как меняется средний радиус открытых экзопланет год от года. Для этого надо сложить радиусы планет, открытых за определённый год, и поделить на их количество (которое мы уже нашли).\n",
        "\n",
        "Сумма радиусов считается методом **sum()**:\n",
        "\n",
        "**exo_radius_sum = exoplanet.groupby('discovered')['radius'].sum()**\n",
        "\n",
        "\n",
        "**print(exo_radius_sum)**\n",
        "\n",
        "\n",
        "\n",
        "## Задача\n",
        "Вашему вниманию предлагается датасет с обзором показателей самоубийств с 1985 по 2016 год — Сравнение социально-экономической информации с показателями самоубийств по годам и странам.\n",
        "\n",
        "Столбцами этой таблицы являются: страна, год, пол, возрастная группа, количество самоубийств, население, уровень самоубийств, сводный ключ по стране за год, ИЧР (индекс человеческого развития) за год, ВВП за год, ВВП на душу населения, поколение (на основе среднего по возрастной группе).\n",
        "\n",
        "1. Загрузите таблицу master, содержащую данные о самоубийствах. Выведите на экран таблицу и оцените данные, обратите внимание на названия столбцов, переименуйте их, если это необходимо.\n",
        "\n",
        "2. Убедитесь в том, что данные прошли предподготовку.  Пропущенные и неопределённые значения выявляет метод isna(), а суммарное количество таких значений — метод sum().\n",
        "\n",
        "3. Сгруппируйте DataFrame по столбцу country, сохраните полученный результат в переменной country_grouping.\n",
        "\n",
        "4. Посчитайте количество случаев самоубийств по странам, которые были совершены, методом **sum()**, указав, что выбираем один столбец suicides_no.\n",
        "\n",
        "Сохраните результат в переменной country_sum и выведите первые 30 строк этой таблицы.\n",
        "\n"
      ]
    },
    {
      "cell_type": "code",
      "execution_count": 4,
      "metadata": {
        "scrolled": true,
        "colab": {
          "base_uri": "https://localhost:8080/"
        },
        "id": "Un8FqiE55YNa",
        "outputId": "41637a66-9ae8-4f78-fed5-8137a146cdb3"
      },
      "outputs": [
        {
          "output_type": "stream",
          "name": "stdout",
          "text": [
            "   country  year     sex          age  suicides_no  population  \\\n",
            "0  Albania  1987    male  15-24 years           21      312900   \n",
            "1  Albania  1987    male  35-54 years           16      308000   \n",
            "2  Albania  1987  female  15-24 years           14      289700   \n",
            "3  Albania  1987    male    75+ years            1       21800   \n",
            "4  Albania  1987    male  25-34 years            9      274300   \n",
            "5  Albania  1987  female    75+ years            1       35600   \n",
            "6  Albania  1987  female  35-54 years            6      278800   \n",
            "7  Albania  1987  female  25-34 years            4      257200   \n",
            "8  Albania  1987    male  55-74 years            1      137500   \n",
            "9  Albania  1987  female   5-14 years            0      311000   \n",
            "\n",
            "   suicides/100k pop country-year  HDI for year  gdp_for_year ($)   \\\n",
            "0               6.71  Albania1987           NaN      2,156,624,900   \n",
            "1               5.19  Albania1987           NaN      2,156,624,900   \n",
            "2               4.83  Albania1987           NaN      2,156,624,900   \n",
            "3               4.59  Albania1987           NaN      2,156,624,900   \n",
            "4               3.28  Albania1987           NaN      2,156,624,900   \n",
            "5               2.81  Albania1987           NaN      2,156,624,900   \n",
            "6               2.15  Albania1987           NaN      2,156,624,900   \n",
            "7               1.56  Albania1987           NaN      2,156,624,900   \n",
            "8               0.73  Albania1987           NaN      2,156,624,900   \n",
            "9               0.00  Albania1987           NaN      2,156,624,900   \n",
            "\n",
            "   gdp_per_capita ($)       generation  \n",
            "0                 796     Generation X  \n",
            "1                 796           Silent  \n",
            "2                 796     Generation X  \n",
            "3                 796  G.I. Generation  \n",
            "4                 796          Boomers  \n",
            "5                 796  G.I. Generation  \n",
            "6                 796           Silent  \n",
            "7                 796          Boomers  \n",
            "8                 796  G.I. Generation  \n",
            "9                 796     Generation X  \n",
            "Кол-во пропусков: country                   0\n",
            "year                      0\n",
            "sex                       0\n",
            "age                       0\n",
            "suicides_no               0\n",
            "population                0\n",
            "suicides/100k pop         0\n",
            "country-year              0\n",
            "HDI for year          19456\n",
            " gdp_for_year ($)         0\n",
            "gdp_per_capita ($)        0\n",
            "generation                0\n",
            "dtype: int64\n",
            "Кол-во дубликатов: 0\n",
            "country\n",
            "Albania                     1970\n",
            "Antigua and Barbuda           11\n",
            "Argentina                  82219\n",
            "Armenia                     1905\n",
            "Aruba                        101\n",
            "Australia                  70111\n",
            "Austria                    50073\n",
            "Azerbaijan                  1656\n",
            "Bahamas                       93\n",
            "Bahrain                      463\n",
            "Barbados                     177\n",
            "Belarus                    59892\n",
            "Belgium                    62761\n",
            "Belize                       348\n",
            "Bosnia and Herzegovina       318\n",
            "Brazil                    226613\n",
            "Bulgaria                   36388\n",
            "Cabo Verde                    42\n",
            "Canada                    107561\n",
            "Chile                      40895\n",
            "Colombia                   53080\n",
            "Costa Rica                  6792\n",
            "Croatia                    18429\n",
            "Cuba                       41418\n",
            "Cyprus                       412\n",
            "Czech Republic             43687\n",
            "Denmark                    15297\n",
            "Dominica                       0\n",
            "Ecuador                    20660\n",
            "El Salvador                11683\n",
            "Name: suicides_no, dtype: int64\n"
          ]
        }
      ],
      "source": [
        "import pandas as pd\n",
        "df = pd.read_csv('master.csv')\n",
        "print(df.head(10))\n",
        "print(f'Кол-во пропусков: {df.isna().sum()}')\n",
        "print(f'Кол-во дубликатов: {df.duplicated().sum()}')\n",
        "country_grouping = df.groupby('country')\n",
        "country_sum = country_grouping['suicides_no'].sum()\n",
        "print(country_sum.head(30))"
      ]
    },
    {
      "cell_type": "markdown",
      "metadata": {
        "id": "wrC4V_uH5YNb"
      },
      "source": [
        "# Сортировка данных\n",
        "\n",
        "\n",
        "Поиск необычного в группе — что среди планет, что среди меломанов — это прежде всего поиск чемпионов: объектов с выдающимися показателями по разным статьям. Как всю таблицу, так и отдельные группы изучают, сортируя строки по какому-либо столбцу.\n",
        "\n",
        "В Pandas для этой операции есть метод **sort_values()**. У него два аргумента:\n",
        "\n",
        "• **by = 'имя столбца'** — имя столбца, по которому нужно сортировать;\n",
        "\n",
        "• **ascending:** по умолчанию True. Для сортировки по убыванию установите значение False.\n",
        "\n",
        "![image.png](attachment:image.png)\n",
        "\n",
        "\n",
        "Среди экзопланет интересны близкие по размерам к Земле. Есть ли такие? Отсортируем список по радиусу в порядке возрастания. Тогда в голове таблицы окажутся самые малые, на которых гравитация не прижмёт нас к полу.\n",
        "\n",
        "**print(exoplanet.sort_values(by='radius').head(30))**\n",
        "\n",
        "Оказывается, некоторые из уже открытых экзопланет по размерам близки не то что к Земле, но уже и к Луне! Получим список экзопланет с радиусом меньше земного. Смотрите, как логический оператор (здесь это <) задействуется в отборе элементов столбца. Дальше нам этот приём не раз понадобится.\n",
        "\n",
        "**print(exoplanet[exoplanet['radius'] < 1])**\n",
        "\n",
        "Но и этот список такой длинный, что изучать его лучше по частям. Экзопланеты, близкие по размерам к Земле, за последнее десятилетие открывали нередко. Можно изучать список открытых за каждый год. Например, для 2014 года (вновь обратите внимание на работу логического оператора, теперь это ==):\n",
        "\n",
        "**print(exoplanet[exoplanet['discovered'] == 2014])**\n",
        "\n",
        "А чтобы не тратить время на лишнее, поставим оба условия сразу. Для этого в Pandas есть логический оператор &, подобный оператору and языка Python. Напомним, его смысл на русском языке можно передать словами «и ещё»:\n",
        "\n",
        "**exo_small_14 = exoplanet[ (exoplanet['radius']<1) & (exoplanet['discovered']==2014)]**\n",
        "\n",
        "**print(exo_small_14)**\n",
        "\n",
        "Отсортируем результат в порядке убывания радиуса.\n",
        "\n",
        "**print(exo_small_14.sort_values(by = 'radius', ascending = False))**\n",
        "\n",
        "\n",
        "\n"
      ]
    },
    {
      "cell_type": "markdown",
      "metadata": {
        "id": "uOqn1d8x5YNb"
      },
      "source": [
        "## Задача\n",
        "1. Выделим пятерки стран с самым низким и самым высоким уровнем самоубийств в мире."
      ]
    },
    {
      "cell_type": "code",
      "execution_count": 7,
      "metadata": {
        "colab": {
          "base_uri": "https://localhost:8080/"
        },
        "id": "CepnQEjc5YNc",
        "outputId": "e959e993-c604-46f7-9362-3bc493161e86"
      },
      "outputs": [
        {
          "output_type": "stream",
          "name": "stdout",
          "text": [
            "Страны с самым низким уровнем самоубийств: country\n",
            "Dominica                  0\n",
            "Saint Kitts and Nevis     0\n",
            "San Marino                4\n",
            "Antigua and Barbuda      11\n",
            "Maldives                 20\n",
            "Name: suicides_no, dtype: int64\n"
          ]
        }
      ],
      "source": [
        "country_sum_sorted = country_sum.sort_values()\n",
        "lowest_suicide_countries = country_sum_sorted.head(5)\n",
        "print(f\"Страны с самым низким уровнем самоубийств: {lowest_suicide_countries}\")"
      ]
    },
    {
      "cell_type": "code",
      "execution_count": 8,
      "metadata": {
        "scrolled": true,
        "colab": {
          "base_uri": "https://localhost:8080/"
        },
        "id": "UCgwEhBR5YNc",
        "outputId": "2886e4c2-f05d-4173-8083-389f2c4adc19"
      },
      "outputs": [
        {
          "output_type": "stream",
          "name": "stdout",
          "text": [
            "Страны с самым высоким уровнем самоубийств: country\n",
            "Ukraine                319950\n",
            "France                 329127\n",
            "Japan                  806902\n",
            "United States         1034013\n",
            "Russian Federation    1209742\n",
            "Name: suicides_no, dtype: int64\n"
          ]
        }
      ],
      "source": [
        "highest_suicide_countries = country_sum_sorted.tail(5)\n",
        "print(f\"Страны с самым высоким уровнем самоубийств: {highest_suicide_countries}\")\n",
        "\n"
      ]
    },
    {
      "cell_type": "markdown",
      "metadata": {
        "id": "PvXtOkqR5YNc"
      },
      "source": [
        "2. Исследуйте распределение количества суидидов по гендерному признаку. Найдите лидеров и антилидеров по количеству самоубийств среди женщин. Повторяется ли картина по сравнению с предыдущим исследованием?"
      ]
    },
    {
      "cell_type": "code",
      "execution_count": 23,
      "metadata": {
        "colab": {
          "base_uri": "https://localhost:8080/"
        },
        "id": "EGI0eFFj5YNc",
        "outputId": "e408db5a-0488-4dd0-a6b5-1f285bad07bc"
      },
      "outputs": [
        {
          "output_type": "stream",
          "name": "stdout",
          "text": [
            "Страны с самым низким уровнем самоубийств среди женщин: country                sex   \n",
            "Oman                   female    0\n",
            "San Marino             female    0\n",
            "Dominica               female    0\n",
            "Saint Kitts and Nevis  female    0\n",
            "Antigua and Barbuda    female    1\n",
            "Name: suicides_no, dtype: int64\n",
            "Страны с самым высоким уровнем самоубийств среди женщин: country             sex   \n",
            "Republic of Korea   female     82615\n",
            "France              female     89419\n",
            "United States       female    213797\n",
            "Russian Federation  female    214330\n",
            "Japan               female    251630\n",
            "Name: suicides_no, dtype: int64\n"
          ]
        }
      ],
      "source": [
        "gender_grouping = df.groupby(['country', 'sex'])\n",
        "gender_sum = gender_grouping['suicides_no'].sum()\n",
        "female_suicides = gender_sum[gender_sum.index.get_level_values('sex') == 'female']\n",
        "female_suicides_sorted = female_suicides.sort_values()\n",
        "\n",
        "lowest_female_suicide_countries = female_suicides_sorted.head(5)\n",
        "print(f\"Страны с самым низким уровнем самоубийств среди женщин: {lowest_female_suicide_countries}\")\n",
        "\n",
        "highest_female_suicide_countries = female_suicides_sorted.tail(5)\n",
        "print(f\"Страны с самым высоким уровнем самоубийств среди женщин: {highest_female_suicide_countries}\")"
      ]
    },
    {
      "cell_type": "markdown",
      "metadata": {
        "id": "hZoAgHLM5YNc"
      },
      "source": [
        "# Описательная статистика\n",
        "\n",
        "Чтобы представить себе среднестатистического самоубийцу, понадобится описательная статистика.\n",
        "\n",
        "Из её показателей для количественного описания данных в нашей задаче нужны четыре меры — максимум, минимум, медиана и среднее.\n",
        "\n",
        "Наибольшее и наименьшее обычно вычисляют только по одному признаку. Например, можно получить минимальное и максимальное значение уровня самоубийств (количество самоубийств на 100 тыс.населения) (столбец 'suicides/100k pop'). Для поиска максимума вызывают метод max(), примененный к этому столбцу:\n",
        "\n",
        "print(master['suicides/100k pop'].max())\n"
      ]
    },
    {
      "cell_type": "code",
      "execution_count": 26,
      "metadata": {
        "colab": {
          "base_uri": "https://localhost:8080/"
        },
        "id": "EpXiwONd5YNd",
        "outputId": "2ed5c772-4c7b-44e4-dfb3-9338d90dee8c"
      },
      "outputs": [
        {
          "output_type": "stream",
          "name": "stdout",
          "text": [
            "224.97\n"
          ]
        }
      ],
      "source": [
        "print(df['suicides/100k pop'].max())"
      ]
    },
    {
      "cell_type": "markdown",
      "metadata": {
        "id": "Zz9YL2cm5YNd"
      },
      "source": [
        "Самый высокий показатель оказался 224.97 самоубийств на 100 тыс.населения. Интересно, в какой стране такая ситуация.\n",
        "\n",
        "Запросим из master строку с максимальным значением, прибегнув к логической индексации с условием\n",
        "\n",
        "**master['suicides/100k pop'] == master['suicides/100k pop'].max()**"
      ]
    },
    {
      "cell_type": "code",
      "execution_count": 29,
      "metadata": {
        "colab": {
          "base_uri": "https://localhost:8080/"
        },
        "id": "nCovmAqV5YNd",
        "outputId": "609fd884-f615-4fd3-dd60-8917de378ac2"
      },
      "outputs": [
        {
          "output_type": "stream",
          "name": "stdout",
          "text": [
            "     country  year   sex        age  suicides_no  population  \\\n",
            "1258   Aruba  1995  male  75+ years            2         889   \n",
            "\n",
            "      suicides/100k pop country-year  HDI for year  gdp_for_year ($)   \\\n",
            "1258             224.97    Aruba1995           NaN      1,320,670,391   \n",
            "\n",
            "      gdp_per_capita ($)       generation  \n",
            "1258               17949  G.I. Generation  \n"
          ]
        }
      ],
      "source": [
        "df['suicides/100k pop'] == df['suicides/100k pop'].max()\n",
        "print(df[df['suicides/100k pop'] == df['suicides/100k pop'].max()])"
      ]
    },
    {
      "cell_type": "markdown",
      "metadata": {
        "id": "au9jEHHZ5YNe"
      },
      "source": [
        "Минимальное значение — ищут методом **min()**. Нам интересно установить случаи, когда уровень суицидов минимальный, но не нулевой.\n",
        "\n",
        "Вот как мы создаём выборку  и находим в ней минимальное значение:\n",
        "\n",
        "**master_drop_null = master[master['suicides/100k pop'] != 0]**\n",
        "\n",
        "**print(master_drop_null['suicides/100k pop'].min())**\n"
      ]
    },
    {
      "cell_type": "code",
      "execution_count": 28,
      "metadata": {
        "colab": {
          "base_uri": "https://localhost:8080/"
        },
        "id": "W8STGjk45YNe",
        "outputId": "6a6d6678-05e3-415c-88ca-cbd9dad9d86b"
      },
      "outputs": [
        {
          "output_type": "stream",
          "name": "stdout",
          "text": [
            "0.02\n"
          ]
        }
      ],
      "source": [
        "master_drop_null = df[df['suicides/100k pop'] != 0]\n",
        "\n",
        "print(master_drop_null['suicides/100k pop'].min())"
      ]
    },
    {
      "cell_type": "markdown",
      "metadata": {
        "id": "Avy6PW4X5YNe"
      },
      "source": [
        "Получим название самой \"счастливой\" страны. Как и при поиске максимума, воспользуемся условием и логической индексацией"
      ]
    },
    {
      "cell_type": "code",
      "execution_count": 30,
      "metadata": {
        "colab": {
          "base_uri": "https://localhost:8080/"
        },
        "id": "SMiGUK2a5YNe",
        "outputId": "2ffd881c-0fb4-44a8-bb59-1fd7515b0ece"
      },
      "outputs": [
        {
          "output_type": "stream",
          "name": "stdout",
          "text": [
            "            country  year     sex         age  suicides_no  population  \\\n",
            "23347  South Africa  2000  female  5-14 years            1     5079980   \n",
            "23371  South Africa  2002  female  5-14 years            1     5081661   \n",
            "23479  South Africa  2011    male  5-14 years            1     5198162   \n",
            "25060      Thailand  1994  female  5-14 years            1     5609000   \n",
            "25061      Thailand  1994    male  5-14 years            1     5821000   \n",
            "\n",
            "       suicides/100k pop      country-year  HDI for year  gdp_for_year ($)   \\\n",
            "23347               0.02  South Africa2000         0.632    136,361,854,808   \n",
            "23371               0.02  South Africa2002           NaN    115,748,110,113   \n",
            "23479               0.02  South Africa2011         0.651    416,878,162,441   \n",
            "25060               0.02      Thailand1994           NaN    146,683,499,006   \n",
            "25061               0.02      Thailand1994           NaN    146,683,499,006   \n",
            "\n",
            "       gdp_per_capita ($)    generation  \n",
            "23347                3361    Millenials  \n",
            "23371                2769    Millenials  \n",
            "23479                8906  Generation Z  \n",
            "25060                2784    Millenials  \n",
            "25061                2784    Millenials  \n"
          ]
        }
      ],
      "source": [
        "print(df[df['suicides/100k pop'] == master_drop_null['suicides/100k pop'].min()])"
      ]
    },
    {
      "cell_type": "markdown",
      "metadata": {
        "id": "tQY4xx9R5YNe"
      },
      "source": [
        "Результат вывода — две страны, которые соответствуют минимальному значению.\n",
        "На основе полученных данных можно сделать вывод, что число совершенных самоубийств на 100 тыс. населения  находится в диапазоне от 0,02 до 224.97 секунд, не включая пропущенные.\n",
        "\n",
        "Это знание пригодится, чтобы разобраться с медианой и средним арифметическим.\n",
        "\n",
        "Среднее и медиана оценивают значения в центре выборки. Если тех строк, где число с большим количеством самоубийц, столько же, сколько тех, где это число мало — среднее подойдет. Но когда есть оторванные от основной массы лидеры, их результаты сильно смещают значение среднего вверх. Вот почему оценивать в этом случае лучше медианой.\n",
        "\n",
        "![image.png](attachment:image.png)\n",
        "\n",
        "В геометрии медиана делит фигуру на две равные по площади. В статистике она делит выборку пополам: в одной половине значения меньше медианного, в другой больше. Логично, что для определения медианы список обязательно должен быть отсортирован — либо по возрастанию, либо по убыванию.\n",
        "Когда количество значений нечётное, медиана будет равна тому значению, которое оказалось ровно посередине отсортированного набора. Если же количество данных чётное, то медиана рассчитывается как среднее арифметическое двух соседних чисел в середине набора.\n",
        "\n"
      ]
    },
    {
      "cell_type": "markdown",
      "metadata": {
        "id": "HFgYV8I35YNf"
      },
      "source": [
        "В Pandas есть метод **median()**, который считает медиану. По аналогии с **min()** и **max()** его можно применять ко всей таблице, к отдельному столбцу или к сгруппированным данным. Теперь применим медиану ко всем значениям времени прослушивания в нашей таблице, исключив нулевые:\n",
        "\n"
      ]
    },
    {
      "cell_type": "code",
      "execution_count": 31,
      "metadata": {
        "colab": {
          "base_uri": "https://localhost:8080/"
        },
        "id": "j53QPB2h5YNf",
        "outputId": "38e5fdce-32e3-4b65-c6bb-493b93b6e2ab"
      },
      "outputs": [
        {
          "output_type": "stream",
          "name": "stdout",
          "text": [
            "5.99\n"
          ]
        }
      ],
      "source": [
        "print(df['suicides/100k pop'].median())"
      ]
    },
    {
      "cell_type": "markdown",
      "metadata": {
        "id": "o-Ht7c1c5YNf"
      },
      "source": [
        "Чтобы убедиться, что лидеры действительно смещают средний показатель вверх, найдём среднее арифметическое всех этих значений методом mean():"
      ]
    },
    {
      "cell_type": "code",
      "execution_count": 32,
      "metadata": {
        "colab": {
          "base_uri": "https://localhost:8080/"
        },
        "id": "9mLRh_f25YNf",
        "outputId": "6ea7fcb7-0e74-4e76-cb7b-dfab40bc08a2"
      },
      "outputs": [
        {
          "output_type": "stream",
          "name": "stdout",
          "text": [
            "12.816097411933864\n"
          ]
        }
      ],
      "source": [
        "print(df['suicides/100k pop'].mean())"
      ]
    },
    {
      "cell_type": "code",
      "execution_count": null,
      "metadata": {
        "id": "7VOgMTVx5YNf"
      },
      "outputs": [],
      "source": []
    }
  ],
  "metadata": {
    "kernelspec": {
      "display_name": "Python 3 (ipykernel)",
      "language": "python",
      "name": "python3"
    },
    "language_info": {
      "codemirror_mode": {
        "name": "ipython",
        "version": 3
      },
      "file_extension": ".py",
      "mimetype": "text/x-python",
      "name": "python",
      "nbconvert_exporter": "python",
      "pygments_lexer": "ipython3",
      "version": "3.9.12"
    },
    "colab": {
      "provenance": [],
      "include_colab_link": true
    }
  },
  "nbformat": 4,
  "nbformat_minor": 0
}