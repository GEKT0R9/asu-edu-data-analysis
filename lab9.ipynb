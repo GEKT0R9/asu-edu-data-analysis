{
  "cells": [
    {
      "cell_type": "markdown",
      "metadata": {
        "id": "view-in-github",
        "colab_type": "text"
      },
      "source": [
        "<a href=\"https://colab.research.google.com/github/GEKT0R9/asu-edu-data-analysis/blob/main/lab9.ipynb\" target=\"_parent\"><img src=\"https://colab.research.google.com/assets/colab-badge.svg\" alt=\"Open In Colab\"/></a>"
      ]
    },
    {
      "cell_type": "markdown",
      "metadata": {
        "id": "Fa_agGECjft3"
      },
      "source": [
        "# Первые графики и выводы\n",
        "\n",
        "Продолжаем разговор о виртуализации данных.\n",
        "\n",
        "Аналитик должен представлять себе гистограмму ожидаемого вида, чтобы знать, когда стоит насторожиться. Для некоторых явлений можно выяснить все возможные значения и описать частоту их появления — это называется распределение.\n",
        "Отвлекитесь от задачи про АЗС и пофантазируйте. Представьте два игральных кубика с шестью гранями. Мысленно подбросьте их пару.\n",
        "\n",
        "Единственная комбинация, дающая 12 очков в сумме — это две шестёрки. А 8 можно получить разными способами: 2 и 6; 3 и 5; 4 и 4. Из-за того, что таких наборов больше, получить восьмёрку более вероятно, чем 12. Напишем функцию в Python, она выдаст все возможные комбинации с их частотой, по ним построим гистограмму.\n",
        "\n",
        "Для генерации случайных чисел в Python вызывают библиотеку **random** (англ. «случайный»):\n",
        "\n",
        "**import random**\n",
        "\n",
        "Функция **random.randint()** (от англ. random integer, «случайное целое число») возвращает случайные целые числа. Она принимает два аргумента: самое маленькое и самое большое допустимое число. Посмотрим, как она работает:"
      ]
    },
    {
      "cell_type": "code",
      "execution_count": 3,
      "metadata": {
        "colab": {
          "base_uri": "https://localhost:8080/"
        },
        "id": "yhTqxWcHjft4",
        "outputId": "35f7f312-c09a-43fe-8b5d-0ef6163af516"
      },
      "outputs": [
        {
          "output_type": "stream",
          "name": "stdout",
          "text": [
            "4\n",
            "1\n",
            "1\n"
          ]
        }
      ],
      "source": [
        "import random\n",
        "print(random.randint(1, 5))\n",
        "print(random.randint(1, 5))\n",
        "print(random.randint(1, 5))"
      ]
    },
    {
      "cell_type": "markdown",
      "metadata": {
        "id": "nFNU7Z11jft5"
      },
      "source": [
        "Распечатанные результаты работы функции выдали нам пять случайных чисел от 1 до 5. Однако вернёмся к кубикам. Эта же функция для диапазона от 1 до 6 будет имитировать результат броска кубика.  Напишем функцию, возвращающую случайное число точек на верхней грани:"
      ]
    },
    {
      "cell_type": "code",
      "execution_count": 4,
      "metadata": {
        "colab": {
          "base_uri": "https://localhost:8080/"
        },
        "id": "9nx0qeyYjft5",
        "outputId": "55551455-928d-49bf-bec3-3e05317118ed"
      },
      "outputs": [
        {
          "output_type": "stream",
          "name": "stdout",
          "text": [
            "4\n",
            "2\n",
            "6\n"
          ]
        }
      ],
      "source": [
        "# от англ. dice - кубик, roll - бросок\n",
        "def dice_roll():\n",
        "    score = random.randint(1, 6)\n",
        "    return score\n",
        "print(dice_roll())\n",
        "print(dice_roll())\n",
        "print(dice_roll())\n"
      ]
    },
    {
      "cell_type": "markdown",
      "metadata": {
        "id": "vwBYM3yEjft6"
      },
      "source": [
        "У нас пара кубиков. Значит, нужна функция, получающая количество очков от броска двух кубиков."
      ]
    },
    {
      "cell_type": "code",
      "execution_count": 5,
      "metadata": {
        "colab": {
          "base_uri": "https://localhost:8080/"
        },
        "id": "z6bwphY3jft6",
        "outputId": "69bdf95d-3f8c-4a37-b5b0-499685b31eca"
      },
      "outputs": [
        {
          "output_type": "stream",
          "name": "stdout",
          "text": [
            "8\n",
            "7\n",
            "10\n"
          ]
        }
      ],
      "source": [
        "# от англ. double - двойной, roll - бросок, score - очки\n",
        "def double_roll_score():\n",
        "    first = dice_roll()\n",
        "    second = dice_roll()\n",
        "    score = first + second\n",
        "    return score\n",
        "\n",
        "\n",
        "print(double_roll_score())\n",
        "print(double_roll_score())\n",
        "print(double_roll_score())\n"
      ]
    },
    {
      "cell_type": "markdown",
      "metadata": {
        "id": "eDYSZu2ajft6"
      },
      "source": [
        "Сделаем 1000 таких бросков и построим гистограмму полученных очков:"
      ]
    },
    {
      "cell_type": "code",
      "execution_count": 6,
      "metadata": {
        "colab": {
          "base_uri": "https://localhost:8080/",
          "height": 469
        },
        "id": "KKc64mSqjft6",
        "outputId": "256f50aa-a305-47f9-cb78-38b5b7e2d403"
      },
      "outputs": [
        {
          "output_type": "execute_result",
          "data": {
            "text/plain": [
              "array([[<Axes: title={'center': '0'}>]], dtype=object)"
            ]
          },
          "metadata": {},
          "execution_count": 6
        },
        {
          "output_type": "display_data",
          "data": {
            "text/plain": [
              "<Figure size 640x480 with 1 Axes>"
            ],
            "image/png": "[encoded data removed]"
          },
          "metadata": {}
        }
      ],
      "source": [
        "import pandas as pd\n",
        "# Cоздаём пустой список. В него мы\n",
        "# будем складывать результаты экспериментов.\n",
        "experiments = []\n",
        "for i in range(1000):\n",
        "        score = double_roll_score()\n",
        "        # Напомним: функция append() добавляет новый\n",
        "        # элемент score в конец списка experiments.\n",
        "        experiments.append(score)\n",
        "\n",
        "df_experiments = pd.DataFrame(experiments)\n",
        "df_experiments.hist(bins=11, range=(2, 12))\n"
      ]
    },
    {
      "cell_type": "markdown",
      "metadata": {
        "id": "g6EKW4bxjft6"
      },
      "source": [
        "Интересно, такая гистограмма описывает только броски кубиков или характерна для других явлений?\n",
        "\n",
        "Будем бросать на стол 10 монет и считать количество выпавших орлов. Функции для имитации одного броска и подсчёта числа орлов в нескольких бросках уже в прекоде. Мы повторили эксперимент 1000 раз и сохранили результат в переменной df_experiments.\n",
        "Построим гистограмму полученных полученных значений с диапазоном значений от 0 до 10 и количеством корзин 11."
      ]
    },
    {
      "cell_type": "code",
      "execution_count": 7,
      "metadata": {
        "colab": {
          "base_uri": "https://localhost:8080/",
          "height": 469
        },
        "id": "q0QtXfoCjft6",
        "outputId": "243760c7-1c61-41af-be68-a685203ac19d"
      },
      "outputs": [
        {
          "output_type": "execute_result",
          "data": {
            "text/plain": [
              "array([[<Axes: title={'center': '0'}>]], dtype=object)"
            ]
          },
          "metadata": {},
          "execution_count": 7
        },
        {
          "output_type": "display_data",
          "data": {
            "text/plain": [
              "<Figure size 640x480 with 1 Axes>"
            ],
            "image/png": "[encoded data removed]"
          },
          "metadata": {}
        }
      ],
      "source": [
        "# Функция, имитирующая один бросок монеты.\n",
        "# От англ. coin - монета, flip - бросок монеты.\n",
        "def coin_flip():\n",
        "    # возможны два варианта:\n",
        "    # - выпала решка, это +0 орлов\n",
        "    # - выпал орёл, это +1 орёл\n",
        "    score = random.randint(0, 1)\n",
        "    return score\n",
        "\n",
        "\n",
        "# Функция для суммирования числа орлов в нескольких бросках.\n",
        "# Орёл и решка переводятся на английский как heads и tails.\n",
        "# Аргумент repeat говорит, сколько раз бросать монету\n",
        "# (от англ. repeat - повторение).\n",
        "def flips_heads(repeat):\n",
        "    total = 0\n",
        "    for i in range(repeat):\n",
        "        flip = coin_flip()\n",
        "        total += flip\n",
        "    return total\n",
        "\n",
        "\n",
        "# Cоздаём пустой список. В него мы\n",
        "# будем складывать результаты экспериментов.\n",
        "experiments = []\n",
        "\n",
        "for i in range(1000):\n",
        "    score = flips_heads(10)\n",
        "\n",
        "    # Напомним: функция append() добавляет новый\n",
        "    # элемент score в конец списка experiments.\n",
        "    experiments.append(score)\n",
        "\n",
        "# превращаем список в DataFrame\n",
        "df_experiments = pd.DataFrame(experiments)\n",
        "df_experiments.hist(bins=11, range=(0, 10))\n"
      ]
    },
    {
      "cell_type": "markdown",
      "metadata": {
        "id": "Ce9iIFtLjft7"
      },
      "source": [
        "## Распределения\n",
        "\n",
        "Взгляните ещё раз на гистограммы кубиков и орлов. Наиболее частые (типичные, нормальные) значения оказываются посередине. А редкие — по краям. График симметричен и напоминает колокол. Такое распределение называется **нормальное**.\n",
        "![image.png](attachment:image.png)\n",
        "\n",
        "Нормальные или тяготеющие к ним распределения распространены в жизни. Так распределяется рост людей, размер яблок, результаты измерения температуры. Понимание природы распределений необходимо для обнаружения важных аномалий.\n",
        "\n",
        "Так, измеряя длину изготовленных на заводе деталей, мы ожидаем распределение, тяготеющее к нормальному. Если же в результате расчётов получили распределение, скажем, с двумя пиками, это должно насторожить аналитика. Такое может быть, если на заводе есть две производственные линии, и с одной из них приходят данные в сантиметрах, а с другой — в метрах.\n",
        "\n",
        "В общем случае любое отклонение от ожидаемого распределения — это сигнал, что данные не в порядке.\n",
        "Ещё одно распределение, которое часто встречается — распределение Пуассона. Оно описывает число событий в единицу времени."
      ]
    },
    {
      "cell_type": "markdown",
      "metadata": {
        "id": "COXHS5BTjft7"
      },
      "source": [
        "Например, в среднем в магазин заходит 2 человека в минуту. Но это не значит, что каждую минуту заходит ровно 2 человека. Может, в эту минуту не зайдёт ни одного, а через минуту зайдёт 5. Если каждый посетитель заходит случайным образом, независимо от других — это и есть распределение Пуассона:\n",
        "![image.png](attachment:image.png)"
      ]
    },
    {
      "cell_type": "markdown",
      "metadata": {
        "id": "vAJ1h-WVjft7"
      },
      "source": [
        "Форма распределения Пуассона зависит от числа событий. При небольших значениях распределение смещено влево, а с увеличением числа событий становится симметричным и уходит вправо."
      ]
    },
    {
      "cell_type": "markdown",
      "metadata": {
        "id": "uQRl4OVgjft7"
      },
      "source": [
        "## Диаграмма размаха\n",
        "Вспомним распределение времени на АЗС, которое мы получили на прошлом занятии.\n"
      ]
    },
    {
      "cell_type": "code",
      "execution_count": 8,
      "metadata": {
        "colab": {
          "base_uri": "https://localhost:8080/",
          "height": 447
        },
        "id": "Ew5kyGhEjft7",
        "outputId": "1d011567-985c-4d8c-8386-dbdcb968ec0d"
      },
      "outputs": [
        {
          "output_type": "execute_result",
          "data": {
            "text/plain": [
              "<Axes: >"
            ]
          },
          "metadata": {},
          "execution_count": 8
        },
        {
          "output_type": "display_data",
          "data": {
            "text/plain": [
              "<Figure size 640x480 with 1 Axes>"
            ],
            "image/png": "[encoded data removed]"
          },
          "metadata": {}
        }
      ],
      "source": [
        "import pandas as d\n",
        "data = pd.read_csv('visits.csv', sep = '\\t')\n",
        "#data.info()\n",
        "data['time_spent'].hist(bins=100, range=(0, 1500))"
      ]
    },
    {
      "cell_type": "markdown",
      "metadata": {
        "id": "Vu0Y8_HIjft7"
      },
      "source": [
        "Ожидаемое распределение времени заправки — гистограмма с длинным хвостом на высоких значениях и падением в ноль слева от пика, не доходя до нулевого времени заправки. Однако на графике виден высокий пик около 0. Скорее всего, он имеет иную природу. Это не заправки, а ошибки расчётов, проезды сквозь АЗС или что-то ещё.\n",
        "\n",
        "Описывая распределение, аналитики рассчитывают среднее арифметическое или медиану. С соответствующими методами **mean()** и **median()** вы познакомились в курсе по предобработке данных. Однако помимо медианы и среднего, важно знать характерный разброс — то, какие значения оказались вдали от среднего, и насколько их много.\n",
        "\n",
        "Самое простое, что можно посчитать для оценки разброса — это минимальное и максимальное значения. Такое описание не всегда точно, подвержено влиянию выбросов. Гораздо более устойчивая оценка — **межквартильный размах**.\n",
        "\n",
        "Квартили (от латинского quartus — «четвёртый») разбивают упорядоченный набор данных на четыре части. Первый квартиль Q1 — число, отделяющее первую четверть выборки: 25% элементов меньше, а 75% — больше него. Медиана — второй квартиль Q2, половина элементов больше и половина меньше неё. Третий квартиль Q3 — это отсечка трёх четвертей: 75% элементов меньше и 25% элементов больше него. Межквартильный размах — это расстояние между Q1 и Q3.\n",
        "![image.png](attachment:image.png)\n"
      ]
    },
    {
      "cell_type": "markdown",
      "metadata": {
        "id": "XfIN9l4Hjft7"
      },
      "source": [
        "Увидеть медиану и квартили в Python можно на специальном графике. Его называют диаграмма размаха или ящик с усами.\n",
        "![image.png](attachment:image.png)\n",
        "«Ящик» ограничен первым и третьим квартилями. Внутри ящика обозначают медиану."
      ]
    },
    {
      "cell_type": "markdown",
      "metadata": {
        "id": "MVTL477ojft7"
      },
      "source": [
        "«Усы» простираются влево и вправо от границ ящика на расстояние, равное 1,5 межквартильным размахам (сокращённо IQR, от англ. interquartile range, «межквартильный размах»). В размах «усов» попадают нормальные значения, а за пределами находятся выбросы, изображённые точками.\n",
        "![image.png](attachment:image.png)"
      ]
    },
    {
      "cell_type": "markdown",
      "metadata": {
        "id": "59ydku91jft8"
      },
      "source": [
        "## Диаграмма размаха в Python\n",
        "В Python диаграмму размаха строят методом **boxplot()** (от англ. box and whisker plot — «ящик с усами»).\n",
        "Посмотрим, как выглядит график для данных задачи про АЗС:"
      ]
    },
    {
      "cell_type": "code",
      "execution_count": 9,
      "metadata": {
        "colab": {
          "base_uri": "https://localhost:8080/",
          "height": 448
        },
        "id": "PTq1k_a9jft8",
        "outputId": "af66141b-a232-423b-99d5-9236beb53575"
      },
      "outputs": [
        {
          "output_type": "execute_result",
          "data": {
            "text/plain": [
              "<Axes: >"
            ]
          },
          "metadata": {},
          "execution_count": 9
        },
        {
          "output_type": "display_data",
          "data": {
            "text/plain": [
              "<Figure size 640x480 with 1 Axes>"
            ],
            "image/png": "[encoded data removed]"
          },
          "metadata": {}
        }
      ],
      "source": [
        "data.boxplot()"
      ]
    },
    {
      "cell_type": "markdown",
      "metadata": {
        "id": "Zrdtob3pjft8"
      },
      "source": [
        "Для продвинутой работы с графиками (в том числе гистограммами), импортируют библиотеку **matplotlib** (от англ. math — «математический», **plot** — «график, диаграмма», **library** — «библиотека»).\n",
        "\n",
        "Желая построить график, обращаются к методам Pandas, а он, в свою очередь, передаёт данные **matplotlib**. Pandas при вызове функций рисования возвращает оси графика. Ими можно управлять, задавая ограничения на оси абсцисс (x) и оси ординат (y).\n",
        "\n",
        "Применим метод **ylim(y_min, y_max)** (от англ. y-limits, «пределы по оси ординат») для изменения масштаба по вертикальной оси. Если требуется поменять масштаб по горизонтальной оси, вызывают метод **xlim (x_min, x_max)** (от англ. х-limits, «пределы по оси абсцисс»). Оба метода имеют 2 аргумента: минимальное и максимальное желаемое значение для графика; а сам метод вызывают из библиотеки **plt**:"
      ]
    },
    {
      "cell_type": "code",
      "execution_count": 10,
      "metadata": {
        "colab": {
          "base_uri": "https://localhost:8080/",
          "height": 452
        },
        "id": "SExzXyr2jft8",
        "outputId": "2ccd6ff4-4959-4a78-fb46-425d964d3b90"
      },
      "outputs": [
        {
          "output_type": "execute_result",
          "data": {
            "text/plain": [
              "(0.0, 200.0)"
            ]
          },
          "metadata": {},
          "execution_count": 10
        },
        {
          "output_type": "display_data",
          "data": {
            "text/plain": [
              "<Figure size 640x480 with 1 Axes>"
            ],
            "image/png": "[encoded data removed]"
          },
          "metadata": {}
        }
      ],
      "source": [
        "import matplotlib.pyplot as plt\n",
        "\n",
        "plt.ylim(-50, 500)\n",
        "plt.xlim(0, 200)\n"
      ]
    },
    {
      "cell_type": "markdown",
      "metadata": {
        "id": "SjqWIz-mjft8"
      },
      "source": [
        "### Задача 1\n",
        "**boxplot()** позволяет визуально оценить характеристики распределения, не прибегая к гистограмме. Удобно, когда нужно сравнить разные выборки.\n",
        "Нарисуйте диаграмму размаха для **data**, ограничив диапазон по вертикали значениями -100 и 1000.\n"
      ]
    },
    {
      "cell_type": "code",
      "execution_count": 11,
      "metadata": {
        "colab": {
          "base_uri": "https://localhost:8080/",
          "height": 435
        },
        "id": "eeVEBr79jft8",
        "outputId": "f84b1d74-5afb-41dd-a936-a595d5b398bd"
      },
      "outputs": [
        {
          "output_type": "display_data",
          "data": {
            "text/plain": [
              "<Figure size 640x480 with 1 Axes>"
            ],
            "image/png": "[encoded data removed]"
          },
          "metadata": {}
        }
      ],
      "source": [
        "#Youre code is here\n",
        "data.boxplot()\n",
        "plt.ylim(-100, 1000)\n",
        "plt.show()"
      ]
    },
    {
      "cell_type": "markdown",
      "metadata": {
        "id": "NQhfe4qtjft8"
      },
      "source": [
        "## Описание данных\n",
        "\n",
        "Внимательно изучите усы.\n",
        "Нижний «ус» упирается в 0, минимальное значение. Верхний заканчивается около 650 секунд — это 1.5 межквартильного размаха, добавленного к 3-му квартилю. Это ориентировочная граница нормального размаха. Всё, что лежит за ней, считается выбросом. Более высокие значения рисуются отдельными точками, но сливаются в единую жирную линию: таких выбросов у нас очень много.\n",
        "\n",
        "И всё же значения, которые отсёк верхний «ус» — редкие. Видно, насколько медиана (зелёная линия) не стремится к длинному хвосту высоких значений.\n",
        "\n",
        "Заметные на гистограмме нюансы распределения хорошо бы зафиксировать в числах: иметь под рукой среднее, медиану, количество наблюдений в выборке и разброс их значений. Такие характеристики, дающие представление о выборке, входят в числовое описание данных. В Python его получают методом **describe()** (англ. «описать, охарактеризовать»). Результат отработки метода — список характерных значений:\n",
        "\n",
        "count -  количество наблюдений в наборе данных\n",
        "mean - среднее арифметическое\n",
        "std -  стандартное отклонение\n",
        "min -  минимальное значение\n",
        "25% -  первый квартиль\n",
        "50% -  медиана или второй квартиль\n",
        "75% - третий квартиль\n",
        "max -  максимальное значение\n"
      ]
    },
    {
      "cell_type": "code",
      "execution_count": 12,
      "metadata": {
        "colab": {
          "base_uri": "https://localhost:8080/"
        },
        "id": "0DGKZ_Evjft8",
        "outputId": "d0e7ef08-25b6-4c0e-a153-cdce1d11a44e"
      },
      "outputs": [
        {
          "output_type": "stream",
          "name": "stdout",
          "text": [
            "          time_spent\n",
            "count  317104.000000\n",
            "mean      203.382294\n",
            "std       395.754791\n",
            "min         0.000000\n",
            "25%        19.000000\n",
            "50%       108.000000\n",
            "75%       274.000000\n",
            "max     28925.000000\n"
          ]
        }
      ],
      "source": [
        "print(data.describe())"
      ]
    },
    {
      "cell_type": "markdown",
      "metadata": {
        "id": "RHdK-ocNjft9"
      },
      "source": [
        "Описание данных может быть не только дополнением к графикам, но и самодостаточной боевой единицей первичного анализа. Если в данных много столбцов, или нужно сравнить несколько выборок, аналитики обращаются к числовому описанию, а не к графикам.\n",
        "\n",
        "Стандартное отклонение — единственное значение, которого мы ещё не касались. Оно характеризует разброс величин, показывает, насколько значения в выборке отличаются от среднего арифметического.\n",
        "Бывает, что именно стандартное отклонение позволяет понять природу распределения и определить, насколько значения однородны. Выборка, где все значения близки к среднему, будет охарактеризована малым стандартным отклонением. Если же стандартное отклонение велико, в наборе данных могут быть серьёзные аномалии или выбросы.\n"
      ]
    },
    {
      "cell_type": "markdown",
      "metadata": {
        "id": "cxWgHkiPjft9"
      },
      "source": [
        "# Срезы данных методом query()\n",
        "\n",
        "Вы уже знаете, как получить общее представление о данных. Пора научиться разбираться в деталях. Откуда взялись короткие заезды на АЗС? А очень долгие? Это характерно для одной АЗС или всех? Отличаются ли чем-то АЗС со сверхдолгими заправками от других?\n",
        "\n",
        "Это гибкий инструмент получения срезов и владеть им полезно. Однако существует и более простой способ — метод **query()** (англ. «запрос»).\n",
        "\n",
        "Необходимое условие для среза записывается в строке, которую передают как аргумент методу query(). А его применяют к датафрейму. В результате получаем нужный срез.\n",
        "\n",
        "Вот для примера датафрейм с информацией об авиабилетах. Указаны пункт вылета **('From')** и прилёта **('To')**, наличие багажа **('Has_luggage')**, прямой ли рейс **('Is_Direct')**, цена билета туда-обратно **('Price')**, дата вылета **('Date_From')** и прилёта **('Date_To')**, название авиалиний **('Airline')**, время в пути в минутах туда **('Travel_time_from')** и обратно **('Travel_time_to')**.\n"
      ]
    },
    {
      "cell_type": "code",
      "execution_count": 13,
      "metadata": {
        "colab": {
          "base_uri": "https://localhost:8080/"
        },
        "id": "Y1Aw5Atijft9",
        "outputId": "d62d0e13-1d78-4686-cb58-f078c6a0dbf4"
      },
      "outputs": [
        {
          "output_type": "stream",
          "name": "stdout",
          "text": [
            "             From         To  Is_Direct  Has_luggage  Price   Date_From  \\\n",
            "0          Moscow       Rome      False         True  21032    01.07.19   \n",
            "1          Moscow       Rome       True        False  19250    01.07.19   \n",
            "2  St. Petersburg       Rome      False        False  19301  04.07.2019   \n",
            "3  St. Petersburg  Barcelona      False         True  20168  03.07.2019   \n",
            "4  St. Petersburg  Barcelona       True        False  31425  05.07.2019   \n",
            "\n",
            "      Date_To  Airline  Travel_time_from  Travel_time_to  \n",
            "0    07.07.19  Belavia               995             350  \n",
            "1    07.07.19       S7               230             225  \n",
            "2  10.07.2019  Finnair               605             720  \n",
            "3  09.07.2019    Swiss               365             355  \n",
            "4  11.07.2019  Rossiya               255             250  \n"
          ]
        }
      ],
      "source": [
        "df = pd.DataFrame(\n",
        "    {\n",
        "        'From': [\n",
        "            'Moscow',\n",
        "            'Moscow',\n",
        "            'St. Petersburg',\n",
        "            'St. Petersburg',\n",
        "            'St. Petersburg',\n",
        "        ],\n",
        "        'To': ['Rome', 'Rome', 'Rome', 'Barcelona', 'Barcelona'],\n",
        "        'Is_Direct': [False, True, False, False, True],\n",
        "        'Has_luggage': [True, False, False, True, False],\n",
        "        'Price': [21032, 19250, 19301, 20168, 31425],\n",
        "        'Date_From': [\n",
        "            '01.07.19',\n",
        "            '01.07.19',\n",
        "            '04.07.2019',\n",
        "            '03.07.2019',\n",
        "            '05.07.2019',\n",
        "        ],\n",
        "        'Date_To': [\n",
        "            '07.07.19',\n",
        "            '07.07.19',\n",
        "            '10.07.2019',\n",
        "            '09.07.2019',\n",
        "            '11.07.2019',\n",
        "        ],\n",
        "        'Airline': ['Belavia', 'S7', 'Finnair', 'Swiss', 'Rossiya'],\n",
        "        'Travel_time_from': [995, 230, 605, 365, 255],\n",
        "        'Travel_time_to': [350, 225, 720, 355, 250],\n",
        "    }\n",
        ")\n",
        "print(df)\n",
        "\n"
      ]
    },
    {
      "cell_type": "markdown",
      "metadata": {
        "id": "gO4WrnTrjft9"
      },
      "source": [
        "Посмотрим информацию о рейсах на Барселону"
      ]
    },
    {
      "cell_type": "code",
      "execution_count": 14,
      "metadata": {
        "colab": {
          "base_uri": "https://localhost:8080/",
          "height": 112
        },
        "id": "_XGIbHCFjft9",
        "outputId": "ed712d59-0a93-4cb6-ba96-6ea65a8c442c"
      },
      "outputs": [
        {
          "output_type": "execute_result",
          "data": {
            "text/plain": [
              "             From         To  Is_Direct  Has_luggage  Price   Date_From  \\\n",
              "3  St. Petersburg  Barcelona      False         True  20168  03.07.2019   \n",
              "4  St. Petersburg  Barcelona       True        False  31425  05.07.2019   \n",
              "\n",
              "      Date_To  Airline  Travel_time_from  Travel_time_to  \n",
              "3  09.07.2019    Swiss               365             355  \n",
              "4  11.07.2019  Rossiya               255             250  "
            ],
            "text/html": [
              "\n",
              "  <div id=\"df-331802c7-4b69-4fae-a234-367b6155dbb2\" class=\"colab-df-container\">\n",
              "    <div>\n",
              "<style scoped>\n",
              "    .dataframe tbody tr th:only-of-type {\n",
              "        vertical-align: middle;\n",
              "    }\n",
              "\n",
              "    .dataframe tbody tr th {\n",
              "        vertical-align: top;\n",
              "    }\n",
              "\n",
              "    .dataframe thead th {\n",
              "        text-align: right;\n",
              "    }\n",
              "</style>\n",
              "<table border=\"1\" class=\"dataframe\">\n",
              "  <thead>\n",
              "    <tr style=\"text-align: right;\">\n",
              "      <th></th>\n",
              "      <th>From</th>\n",
              "      <th>To</th>\n",
              "      <th>Is_Direct</th>\n",
              "      <th>Has_luggage</th>\n",
              "      <th>Price</th>\n",
              "      <th>Date_From</th>\n",
              "      <th>Date_To</th>\n",
              "      <th>Airline</th>\n",
              "      <th>Travel_time_from</th>\n",
              "      <th>Travel_time_to</th>\n",
              "    </tr>\n",
              "  </thead>\n",
              "  <tbody>\n",
              "    <tr>\n",
              "      <th>3</th>\n",
              "      <td>St. Petersburg</td>\n",
              "      <td>Barcelona</td>\n",
              "      <td>False</td>\n",
              "      <td>True</td>\n",
              "      <td>20168</td>\n",
              "      <td>03.07.2019</td>\n",
              "      <td>09.07.2019</td>\n",
              "      <td>Swiss</td>\n",
              "      <td>365</td>\n",
              "      <td>355</td>\n",
              "    </tr>\n",
              "    <tr>\n",
              "      <th>4</th>\n",
              "      <td>St. Petersburg</td>\n",
              "      <td>Barcelona</td>\n",
              "      <td>True</td>\n",
              "      <td>False</td>\n",
              "      <td>31425</td>\n",
              "      <td>05.07.2019</td>\n",
              "      <td>11.07.2019</td>\n",
              "      <td>Rossiya</td>\n",
              "      <td>255</td>\n",
              "      <td>250</td>\n",
              "    </tr>\n",
              "  </tbody>\n",
              "</table>\n",
              "</div>\n",
              "    <div class=\"colab-df-buttons\">\n",
              "\n",
              "  <div class=\"colab-df-container\">\n",
              "    <button class=\"colab-df-convert\" onclick=\"convertToInteractive('df-331802c7-4b69-4fae-a234-367b6155dbb2')\"\n",
              "            title=\"Convert this dataframe to an interactive table.\"\n",
              "            style=\"display:none;\">\n",
              "\n",
              "  <svg xmlns=\"http://www.w3.org/2000/svg\" height=\"24px\" viewBox=\"0 -960 960 960\">\n",
              "    <path d=\"M120-120v-720h720v720H120Zm60-500h600v-160H180v160Zm220 220h160v-160H400v160Zm0 220h160v-160H400v160ZM180-400h160v-160H180v160Zm440 0h160v-160H620v160ZM180-180h160v-160H180v160Zm440 0h160v-160H620v160Z\"/>\n",
              "  </svg>\n",
              "    </button>\n",
              "\n",
              "  <style>\n",
              "    .colab-df-container {\n",
              "      display:flex;\n",
              "      gap: 12px;\n",
              "    }\n",
              "\n",
              "    .colab-df-convert {\n",
              "      background-color: #E8F0FE;\n",
              "      border: none;\n",
              "      border-radius: 50%;\n",
              "      cursor: pointer;\n",
              "      display: none;\n",
              "      fill: #1967D2;\n",
              "      height: 32px;\n",
              "      padding: 0 0 0 0;\n",
              "      width: 32px;\n",
              "    }\n",
              "\n",
              "    .colab-df-convert:hover {\n",
              "      background-color: #E2EBFA;\n",
              "      box-shadow: 0px 1px 2px rgba(60, 64, 67, 0.3), 0px 1px 3px 1px rgba(60, 64, 67, 0.15);\n",
              "      fill: #174EA6;\n",
              "    }\n",
              "\n",
              "    .colab-df-buttons div {\n",
              "      margin-bottom: 4px;\n",
              "    }\n",
              "\n",
              "    [theme=dark] .colab-df-convert {\n",
              "      background-color: #3B4455;\n",
              "      fill: #D2E3FC;\n",
              "    }\n",
              "\n",
              "    [theme=dark] .colab-df-convert:hover {\n",
              "      background-color: #434B5C;\n",
              "      box-shadow: 0px 1px 3px 1px rgba(0, 0, 0, 0.15);\n",
              "      filter: drop-shadow(0px 1px 2px rgba(0, 0, 0, 0.3));\n",
              "      fill: #FFFFFF;\n",
              "    }\n",
              "  </style>\n",
              "\n",
              "    <script>\n",
              "      const buttonEl =\n",
              "        document.querySelector('#df-331802c7-4b69-4fae-a234-367b6155dbb2 button.colab-df-convert');\n",
              "      buttonEl.style.display =\n",
              "        google.colab.kernel.accessAllowed ? 'block' : 'none';\n",
              "\n",
              "      async function convertToInteractive(key) {\n",
              "        const element = document.querySelector('#df-331802c7-4b69-4fae-a234-367b6155dbb2');\n",
              "        const dataTable =\n",
              "          await google.colab.kernel.invokeFunction('convertToInteractive',\n",
              "                                                    [key], {});\n",
              "        if (!dataTable) return;\n",
              "\n",
              "        const docLinkHtml = 'Like what you see? Visit the ' +\n",
              "          '<a target=\"_blank\" href=https://colab.research.google.com/notebooks/data_table.ipynb>data table notebook</a>'\n",
              "          + ' to learn more about interactive tables.';\n",
              "        element.innerHTML = '';\n",
              "        dataTable['output_type'] = 'display_data';\n",
              "        await google.colab.output.renderOutput(dataTable, element);\n",
              "        const docLink = document.createElement('div');\n",
              "        docLink.innerHTML = docLinkHtml;\n",
              "        element.appendChild(docLink);\n",
              "      }\n",
              "    </script>\n",
              "  </div>\n",
              "\n",
              "\n",
              "<div id=\"df-8c3e1dd2-8113-45fa-93d8-468f7537aaf9\">\n",
              "  <button class=\"colab-df-quickchart\" onclick=\"quickchart('df-8c3e1dd2-8113-45fa-93d8-468f7537aaf9')\"\n",
              "            title=\"Suggest charts\"\n",
              "            style=\"display:none;\">\n",
              "\n",
              "<svg xmlns=\"http://www.w3.org/2000/svg\" height=\"24px\"viewBox=\"0 0 24 24\"\n",
              "     width=\"24px\">\n",
              "    <g>\n",
              "        <path d=\"M19 3H5c-1.1 0-2 .9-2 2v14c0 1.1.9 2 2 2h14c1.1 0 2-.9 2-2V5c0-1.1-.9-2-2-2zM9 17H7v-7h2v7zm4 0h-2V7h2v10zm4 0h-2v-4h2v4z\"/>\n",
              "    </g>\n",
              "</svg>\n",
              "  </button>\n",
              "\n",
              "<style>\n",
              "  .colab-df-quickchart {\n",
              "      --bg-color: #E8F0FE;\n",
              "      --fill-color: #1967D2;\n",
              "      --hover-bg-color: #E2EBFA;\n",
              "      --hover-fill-color: #174EA6;\n",
              "      --disabled-fill-color: #AAA;\n",
              "      --disabled-bg-color: #DDD;\n",
              "  }\n",
              "\n",
              "  [theme=dark] .colab-df-quickchart {\n",
              "      --bg-color: #3B4455;\n",
              "      --fill-color: #D2E3FC;\n",
              "      --hover-bg-color: #434B5C;\n",
              "      --hover-fill-color: #FFFFFF;\n",
              "      --disabled-bg-color: #3B4455;\n",
              "      --disabled-fill-color: #666;\n",
              "  }\n",
              "\n",
              "  .colab-df-quickchart {\n",
              "    background-color: var(--bg-color);\n",
              "    border: none;\n",
              "    border-radius: 50%;\n",
              "    cursor: pointer;\n",
              "    display: none;\n",
              "    fill: var(--fill-color);\n",
              "    height: 32px;\n",
              "    padding: 0;\n",
              "    width: 32px;\n",
              "  }\n",
              "\n",
              "  .colab-df-quickchart:hover {\n",
              "    background-color: var(--hover-bg-color);\n",
              "    box-shadow: 0 1px 2px rgba(60, 64, 67, 0.3), 0 1px 3px 1px rgba(60, 64, 67, 0.15);\n",
              "    fill: var(--button-hover-fill-color);\n",
              "  }\n",
              "\n",
              "  .colab-df-quickchart-complete:disabled,\n",
              "  .colab-df-quickchart-complete:disabled:hover {\n",
              "    background-color: var(--disabled-bg-color);\n",
              "    fill: var(--disabled-fill-color);\n",
              "    box-shadow: none;\n",
              "  }\n",
              "\n",
              "  .colab-df-spinner {\n",
              "    border: 2px solid var(--fill-color);\n",
              "    border-color: transparent;\n",
              "    border-bottom-color: var(--fill-color);\n",
              "    animation:\n",
              "      spin 1s steps(1) infinite;\n",
              "  }\n",
              "\n",
              "  @keyframes spin {\n",
              "    0% {\n",
              "      border-color: transparent;\n",
              "      border-bottom-color: var(--fill-color);\n",
              "      border-left-color: var(--fill-color);\n",
              "    }\n",
              "    20% {\n",
              "      border-color: transparent;\n",
              "      border-left-color: var(--fill-color);\n",
              "      border-top-color: var(--fill-color);\n",
              "    }\n",
              "    30% {\n",
              "      border-color: transparent;\n",
              "      border-left-color: var(--fill-color);\n",
              "      border-top-color: var(--fill-color);\n",
              "      border-right-color: var(--fill-color);\n",
              "    }\n",
              "    40% {\n",
              "      border-color: transparent;\n",
              "      border-right-color: var(--fill-color);\n",
              "      border-top-color: var(--fill-color);\n",
              "    }\n",
              "    60% {\n",
              "      border-color: transparent;\n",
              "      border-right-color: var(--fill-color);\n",
              "    }\n",
              "    80% {\n",
              "      border-color: transparent;\n",
              "      border-right-color: var(--fill-color);\n",
              "      border-bottom-color: var(--fill-color);\n",
              "    }\n",
              "    90% {\n",
              "      border-color: transparent;\n",
              "      border-bottom-color: var(--fill-color);\n",
              "    }\n",
              "  }\n",
              "</style>\n",
              "\n",
              "  <script>\n",
              "    async function quickchart(key) {\n",
              "      const quickchartButtonEl =\n",
              "        document.querySelector('#' + key + ' button');\n",
              "      quickchartButtonEl.disabled = true;  // To prevent multiple clicks.\n",
              "      quickchartButtonEl.classList.add('colab-df-spinner');\n",
              "      try {\n",
              "        const charts = await google.colab.kernel.invokeFunction(\n",
              "            'suggestCharts', [key], {});\n",
              "      } catch (error) {\n",
              "        console.error('Error during call to suggestCharts:', error);\n",
              "      }\n",
              "      quickchartButtonEl.classList.remove('colab-df-spinner');\n",
              "      quickchartButtonEl.classList.add('colab-df-quickchart-complete');\n",
              "    }\n",
              "    (() => {\n",
              "      let quickchartButtonEl =\n",
              "        document.querySelector('#df-8c3e1dd2-8113-45fa-93d8-468f7537aaf9 button');\n",
              "      quickchartButtonEl.style.display =\n",
              "        google.colab.kernel.accessAllowed ? 'block' : 'none';\n",
              "    })();\n",
              "  </script>\n",
              "</div>\n",
              "    </div>\n",
              "  </div>\n"
            ],
            "application/vnd.google.colaboratory.intrinsic+json": {
              "type": "dataframe",
              "repr_error": "0"
            }
          },
          "metadata": {},
          "execution_count": 14
        }
      ],
      "source": [
        "df.query('To == \"Barcelona\"')"
      ]
    },
    {
      "cell_type": "markdown",
      "metadata": {
        "id": "duiM0djIjft9"
      },
      "source": [
        "Условия, указанные в параметре **query()**:\n",
        "\n",
        "•\tподдерживают разные операции сравнения: !=, >, >=, <, <=\n",
        "\n",
        "•\tпроверяют, входят ли конкретные значения в список, конструкцией: **Date_To in (\"07.07.19\", \"09.07.2019\")**. Если нужно узнать, нет ли в списке определённых значений, пишут так: **Date_To not in (\"07.07.19\", \"09.07.2019\")**.\n",
        "\n",
        "•\tработают с логическими операторами в привычном виде, где «или» — or , «и» — and, «не» — not. Указывать условия в скобках необязательно. Без скобок операции выполняются в следующем порядке: сначала not, потом and и, наконец, or.\n",
        "\n",
        "Обратите внимание, что значение \"Barcelona\" в коде задачи заключено в двойные кавычки. Это нужно, чтобы различать одинарные кавычки, оформляющие строку, и кавычки для элемента \"Barcelona\".\n",
        "\n",
        "Условия для среза данных можно объединять. Например, чтобы отыскать прямые рейсы или билеты с включённым в стоимость багажом — мало кому нравится летать со множеством пересадок, да ещё и без вещей.\n"
      ]
    },
    {
      "cell_type": "code",
      "execution_count": 15,
      "metadata": {
        "colab": {
          "base_uri": "https://localhost:8080/",
          "height": 175
        },
        "id": "w5N-BZM-jft9",
        "outputId": "6f1d9cb9-35e1-42a3-8841-cf901cc9492f"
      },
      "outputs": [
        {
          "output_type": "execute_result",
          "data": {
            "text/plain": [
              "             From         To  Is_Direct  Has_luggage  Price   Date_From  \\\n",
              "0          Moscow       Rome      False         True  21032    01.07.19   \n",
              "1          Moscow       Rome       True        False  19250    01.07.19   \n",
              "3  St. Petersburg  Barcelona      False         True  20168  03.07.2019   \n",
              "4  St. Petersburg  Barcelona       True        False  31425  05.07.2019   \n",
              "\n",
              "      Date_To  Airline  Travel_time_from  Travel_time_to  \n",
              "0    07.07.19  Belavia               995             350  \n",
              "1    07.07.19       S7               230             225  \n",
              "3  09.07.2019    Swiss               365             355  \n",
              "4  11.07.2019  Rossiya               255             250  "
            ],
            "text/html": [
              "\n",
              "  <div id=\"df-a04212b5-5a31-40d4-9b01-070bce288113\" class=\"colab-df-container\">\n",
              "    <div>\n",
              "<style scoped>\n",
              "    .dataframe tbody tr th:only-of-type {\n",
              "        vertical-align: middle;\n",
              "    }\n",
              "\n",
              "    .dataframe tbody tr th {\n",
              "        vertical-align: top;\n",
              "    }\n",
              "\n",
              "    .dataframe thead th {\n",
              "        text-align: right;\n",
              "    }\n",
              "</style>\n",
              "<table border=\"1\" class=\"dataframe\">\n",
              "  <thead>\n",
              "    <tr style=\"text-align: right;\">\n",
              "      <th></th>\n",
              "      <th>From</th>\n",
              "      <th>To</th>\n",
              "      <th>Is_Direct</th>\n",
              "      <th>Has_luggage</th>\n",
              "      <th>Price</th>\n",
              "      <th>Date_From</th>\n",
              "      <th>Date_To</th>\n",
              "      <th>Airline</th>\n",
              "      <th>Travel_time_from</th>\n",
              "      <th>Travel_time_to</th>\n",
              "    </tr>\n",
              "  </thead>\n",
              "  <tbody>\n",
              "    <tr>\n",
              "      <th>0</th>\n",
              "      <td>Moscow</td>\n",
              "      <td>Rome</td>\n",
              "      <td>False</td>\n",
              "      <td>True</td>\n",
              "      <td>21032</td>\n",
              "      <td>01.07.19</td>\n",
              "      <td>07.07.19</td>\n",
              "      <td>Belavia</td>\n",
              "      <td>995</td>\n",
              "      <td>350</td>\n",
              "    </tr>\n",
              "    <tr>\n",
              "      <th>1</th>\n",
              "      <td>Moscow</td>\n",
              "      <td>Rome</td>\n",
              "      <td>True</td>\n",
              "      <td>False</td>\n",
              "      <td>19250</td>\n",
              "      <td>01.07.19</td>\n",
              "      <td>07.07.19</td>\n",
              "      <td>S7</td>\n",
              "      <td>230</td>\n",
              "      <td>225</td>\n",
              "    </tr>\n",
              "    <tr>\n",
              "      <th>3</th>\n",
              "      <td>St. Petersburg</td>\n",
              "      <td>Barcelona</td>\n",
              "      <td>False</td>\n",
              "      <td>True</td>\n",
              "      <td>20168</td>\n",
              "      <td>03.07.2019</td>\n",
              "      <td>09.07.2019</td>\n",
              "      <td>Swiss</td>\n",
              "      <td>365</td>\n",
              "      <td>355</td>\n",
              "    </tr>\n",
              "    <tr>\n",
              "      <th>4</th>\n",
              "      <td>St. Petersburg</td>\n",
              "      <td>Barcelona</td>\n",
              "      <td>True</td>\n",
              "      <td>False</td>\n",
              "      <td>31425</td>\n",
              "      <td>05.07.2019</td>\n",
              "      <td>11.07.2019</td>\n",
              "      <td>Rossiya</td>\n",
              "      <td>255</td>\n",
              "      <td>250</td>\n",
              "    </tr>\n",
              "  </tbody>\n",
              "</table>\n",
              "</div>\n",
              "    <div class=\"colab-df-buttons\">\n",
              "\n",
              "  <div class=\"colab-df-container\">\n",
              "    <button class=\"colab-df-convert\" onclick=\"convertToInteractive('df-a04212b5-5a31-40d4-9b01-070bce288113')\"\n",
              "            title=\"Convert this dataframe to an interactive table.\"\n",
              "            style=\"display:none;\">\n",
              "\n",
              "  <svg xmlns=\"http://www.w3.org/2000/svg\" height=\"24px\" viewBox=\"0 -960 960 960\">\n",
              "    <path d=\"M120-120v-720h720v720H120Zm60-500h600v-160H180v160Zm220 220h160v-160H400v160Zm0 220h160v-160H400v160ZM180-400h160v-160H180v160Zm440 0h160v-160H620v160ZM180-180h160v-160H180v160Zm440 0h160v-160H620v160Z\"/>\n",
              "  </svg>\n",
              "    </button>\n",
              "\n",
              "  <style>\n",
              "    .colab-df-container {\n",
              "      display:flex;\n",
              "      gap: 12px;\n",
              "    }\n",
              "\n",
              "    .colab-df-convert {\n",
              "      background-color: #E8F0FE;\n",
              "      border: none;\n",
              "      border-radius: 50%;\n",
              "      cursor: pointer;\n",
              "      display: none;\n",
              "      fill: #1967D2;\n",
              "      height: 32px;\n",
              "      padding: 0 0 0 0;\n",
              "      width: 32px;\n",
              "    }\n",
              "\n",
              "    .colab-df-convert:hover {\n",
              "      background-color: #E2EBFA;\n",
              "      box-shadow: 0px 1px 2px rgba(60, 64, 67, 0.3), 0px 1px 3px 1px rgba(60, 64, 67, 0.15);\n",
              "      fill: #174EA6;\n",
              "    }\n",
              "\n",
              "    .colab-df-buttons div {\n",
              "      margin-bottom: 4px;\n",
              "    }\n",
              "\n",
              "    [theme=dark] .colab-df-convert {\n",
              "      background-color: #3B4455;\n",
              "      fill: #D2E3FC;\n",
              "    }\n",
              "\n",
              "    [theme=dark] .colab-df-convert:hover {\n",
              "      background-color: #434B5C;\n",
              "      box-shadow: 0px 1px 3px 1px rgba(0, 0, 0, 0.15);\n",
              "      filter: drop-shadow(0px 1px 2px rgba(0, 0, 0, 0.3));\n",
              "      fill: #FFFFFF;\n",
              "    }\n",
              "  </style>\n",
              "\n",
              "    <script>\n",
              "      const buttonEl =\n",
              "        document.querySelector('#df-a04212b5-5a31-40d4-9b01-070bce288113 button.colab-df-convert');\n",
              "      buttonEl.style.display =\n",
              "        google.colab.kernel.accessAllowed ? 'block' : 'none';\n",
              "\n",
              "      async function convertToInteractive(key) {\n",
              "        const element = document.querySelector('#df-a04212b5-5a31-40d4-9b01-070bce288113');\n",
              "        const dataTable =\n",
              "          await google.colab.kernel.invokeFunction('convertToInteractive',\n",
              "                                                    [key], {});\n",
              "        if (!dataTable) return;\n",
              "\n",
              "        const docLinkHtml = 'Like what you see? Visit the ' +\n",
              "          '<a target=\"_blank\" href=https://colab.research.google.com/notebooks/data_table.ipynb>data table notebook</a>'\n",
              "          + ' to learn more about interactive tables.';\n",
              "        element.innerHTML = '';\n",
              "        dataTable['output_type'] = 'display_data';\n",
              "        await google.colab.output.renderOutput(dataTable, element);\n",
              "        const docLink = document.createElement('div');\n",
              "        docLink.innerHTML = docLinkHtml;\n",
              "        element.appendChild(docLink);\n",
              "      }\n",
              "    </script>\n",
              "  </div>\n",
              "\n",
              "\n",
              "<div id=\"df-61c8674c-89ff-44c4-bc96-b118fdea9438\">\n",
              "  <button class=\"colab-df-quickchart\" onclick=\"quickchart('df-61c8674c-89ff-44c4-bc96-b118fdea9438')\"\n",
              "            title=\"Suggest charts\"\n",
              "            style=\"display:none;\">\n",
              "\n",
              "<svg xmlns=\"http://www.w3.org/2000/svg\" height=\"24px\"viewBox=\"0 0 24 24\"\n",
              "     width=\"24px\">\n",
              "    <g>\n",
              "        <path d=\"M19 3H5c-1.1 0-2 .9-2 2v14c0 1.1.9 2 2 2h14c1.1 0 2-.9 2-2V5c0-1.1-.9-2-2-2zM9 17H7v-7h2v7zm4 0h-2V7h2v10zm4 0h-2v-4h2v4z\"/>\n",
              "    </g>\n",
              "</svg>\n",
              "  </button>\n",
              "\n",
              "<style>\n",
              "  .colab-df-quickchart {\n",
              "      --bg-color: #E8F0FE;\n",
              "      --fill-color: #1967D2;\n",
              "      --hover-bg-color: #E2EBFA;\n",
              "      --hover-fill-color: #174EA6;\n",
              "      --disabled-fill-color: #AAA;\n",
              "      --disabled-bg-color: #DDD;\n",
              "  }\n",
              "\n",
              "  [theme=dark] .colab-df-quickchart {\n",
              "      --bg-color: #3B4455;\n",
              "      --fill-color: #D2E3FC;\n",
              "      --hover-bg-color: #434B5C;\n",
              "      --hover-fill-color: #FFFFFF;\n",
              "      --disabled-bg-color: #3B4455;\n",
              "      --disabled-fill-color: #666;\n",
              "  }\n",
              "\n",
              "  .colab-df-quickchart {\n",
              "    background-color: var(--bg-color);\n",
              "    border: none;\n",
              "    border-radius: 50%;\n",
              "    cursor: pointer;\n",
              "    display: none;\n",
              "    fill: var(--fill-color);\n",
              "    height: 32px;\n",
              "    padding: 0;\n",
              "    width: 32px;\n",
              "  }\n",
              "\n",
              "  .colab-df-quickchart:hover {\n",
              "    background-color: var(--hover-bg-color);\n",
              "    box-shadow: 0 1px 2px rgba(60, 64, 67, 0.3), 0 1px 3px 1px rgba(60, 64, 67, 0.15);\n",
              "    fill: var(--button-hover-fill-color);\n",
              "  }\n",
              "\n",
              "  .colab-df-quickchart-complete:disabled,\n",
              "  .colab-df-quickchart-complete:disabled:hover {\n",
              "    background-color: var(--disabled-bg-color);\n",
              "    fill: var(--disabled-fill-color);\n",
              "    box-shadow: none;\n",
              "  }\n",
              "\n",
              "  .colab-df-spinner {\n",
              "    border: 2px solid var(--fill-color);\n",
              "    border-color: transparent;\n",
              "    border-bottom-color: var(--fill-color);\n",
              "    animation:\n",
              "      spin 1s steps(1) infinite;\n",
              "  }\n",
              "\n",
              "  @keyframes spin {\n",
              "    0% {\n",
              "      border-color: transparent;\n",
              "      border-bottom-color: var(--fill-color);\n",
              "      border-left-color: var(--fill-color);\n",
              "    }\n",
              "    20% {\n",
              "      border-color: transparent;\n",
              "      border-left-color: var(--fill-color);\n",
              "      border-top-color: var(--fill-color);\n",
              "    }\n",
              "    30% {\n",
              "      border-color: transparent;\n",
              "      border-left-color: var(--fill-color);\n",
              "      border-top-color: var(--fill-color);\n",
              "      border-right-color: var(--fill-color);\n",
              "    }\n",
              "    40% {\n",
              "      border-color: transparent;\n",
              "      border-right-color: var(--fill-color);\n",
              "      border-top-color: var(--fill-color);\n",
              "    }\n",
              "    60% {\n",
              "      border-color: transparent;\n",
              "      border-right-color: var(--fill-color);\n",
              "    }\n",
              "    80% {\n",
              "      border-color: transparent;\n",
              "      border-right-color: var(--fill-color);\n",
              "      border-bottom-color: var(--fill-color);\n",
              "    }\n",
              "    90% {\n",
              "      border-color: transparent;\n",
              "      border-bottom-color: var(--fill-color);\n",
              "    }\n",
              "  }\n",
              "</style>\n",
              "\n",
              "  <script>\n",
              "    async function quickchart(key) {\n",
              "      const quickchartButtonEl =\n",
              "        document.querySelector('#' + key + ' button');\n",
              "      quickchartButtonEl.disabled = true;  // To prevent multiple clicks.\n",
              "      quickchartButtonEl.classList.add('colab-df-spinner');\n",
              "      try {\n",
              "        const charts = await google.colab.kernel.invokeFunction(\n",
              "            'suggestCharts', [key], {});\n",
              "      } catch (error) {\n",
              "        console.error('Error during call to suggestCharts:', error);\n",
              "      }\n",
              "      quickchartButtonEl.classList.remove('colab-df-spinner');\n",
              "      quickchartButtonEl.classList.add('colab-df-quickchart-complete');\n",
              "    }\n",
              "    (() => {\n",
              "      let quickchartButtonEl =\n",
              "        document.querySelector('#df-61c8674c-89ff-44c4-bc96-b118fdea9438 button');\n",
              "      quickchartButtonEl.style.display =\n",
              "        google.colab.kernel.accessAllowed ? 'block' : 'none';\n",
              "    })();\n",
              "  </script>\n",
              "</div>\n",
              "    </div>\n",
              "  </div>\n"
            ],
            "application/vnd.google.colaboratory.intrinsic+json": {
              "type": "dataframe",
              "summary": "{\n  \"name\": \"df\",\n  \"rows\": 4,\n  \"fields\": [\n    {\n      \"column\": \"From\",\n      \"properties\": {\n        \"dtype\": \"string\",\n        \"num_unique_values\": 2,\n        \"samples\": [\n          \"St. Petersburg\",\n          \"Moscow\"\n        ],\n        \"semantic_type\": \"\",\n        \"description\": \"\"\n      }\n    },\n    {\n      \"column\": \"To\",\n      \"properties\": {\n        \"dtype\": \"string\",\n        \"num_unique_values\": 2,\n        \"samples\": [\n          \"Barcelona\",\n          \"Rome\"\n        ],\n        \"semantic_type\": \"\",\n        \"description\": \"\"\n      }\n    },\n    {\n      \"column\": \"Is_Direct\",\n      \"properties\": {\n        \"dtype\": \"boolean\",\n        \"num_unique_values\": 2,\n        \"samples\": [\n          true,\n          false\n        ],\n        \"semantic_type\": \"\",\n        \"description\": \"\"\n      }\n    },\n    {\n      \"column\": \"Has_luggage\",\n      \"properties\": {\n        \"dtype\": \"boolean\",\n        \"num_unique_values\": 2,\n        \"samples\": [\n          false,\n          true\n        ],\n        \"semantic_type\": \"\",\n        \"description\": \"\"\n      }\n    },\n    {\n      \"column\": \"Price\",\n      \"properties\": {\n        \"dtype\": \"number\",\n        \"std\": 5684,\n        \"min\": 19250,\n        \"max\": 31425,\n        \"num_unique_values\": 4,\n        \"samples\": [\n          19250,\n          31425\n        ],\n        \"semantic_type\": \"\",\n        \"description\": \"\"\n      }\n    },\n    {\n      \"column\": \"Date_From\",\n      \"properties\": {\n        \"dtype\": \"object\",\n        \"num_unique_values\": 3,\n        \"samples\": [\n          \"01.07.19\",\n          \"03.07.2019\"\n        ],\n        \"semantic_type\": \"\",\n        \"description\": \"\"\n      }\n    },\n    {\n      \"column\": \"Date_To\",\n      \"properties\": {\n        \"dtype\": \"object\",\n        \"num_unique_values\": 3,\n        \"samples\": [\n          \"07.07.19\",\n          \"09.07.2019\"\n        ],\n        \"semantic_type\": \"\",\n        \"description\": \"\"\n      }\n    },\n    {\n      \"column\": \"Airline\",\n      \"properties\": {\n        \"dtype\": \"string\",\n        \"num_unique_values\": 4,\n        \"samples\": [\n          \"S7\",\n          \"Rossiya\"\n        ],\n        \"semantic_type\": \"\",\n        \"description\": \"\"\n      }\n    },\n    {\n      \"column\": \"Travel_time_from\",\n      \"properties\": {\n        \"dtype\": \"number\",\n        \"std\": 360,\n        \"min\": 230,\n        \"max\": 995,\n        \"num_unique_values\": 4,\n        \"samples\": [\n          230,\n          255\n        ],\n        \"semantic_type\": \"\",\n        \"description\": \"\"\n      }\n    },\n    {\n      \"column\": \"Travel_time_to\",\n      \"properties\": {\n        \"dtype\": \"number\",\n        \"std\": 67,\n        \"min\": 225,\n        \"max\": 355,\n        \"num_unique_values\": 4,\n        \"samples\": [\n          225,\n          250\n        ],\n        \"semantic_type\": \"\",\n        \"description\": \"\"\n      }\n    }\n  ]\n}"
            }
          },
          "metadata": {},
          "execution_count": 15
        }
      ],
      "source": [
        "df.query('Is_Direct == True or Has_luggage == True')"
      ]
    },
    {
      "cell_type": "markdown",
      "metadata": {
        "id": "gUo4wc-Ajft9"
      },
      "source": [
        "## Возможности query()\n",
        "Кроме объединения условий, в **query()** можно проводить математические операции:\n"
      ]
    },
    {
      "cell_type": "code",
      "execution_count": 16,
      "metadata": {
        "colab": {
          "base_uri": "https://localhost:8080/",
          "height": 175
        },
        "id": "vXYIj4pdjft-",
        "outputId": "8f4cbba6-ce7d-49df-970b-205ed08ae514"
      },
      "outputs": [
        {
          "output_type": "execute_result",
          "data": {
            "text/plain": [
              "             From         To  Is_Direct  Has_luggage  Price   Date_From  \\\n",
              "1          Moscow       Rome       True        False  19250    01.07.19   \n",
              "2  St. Petersburg       Rome      False        False  19301  04.07.2019   \n",
              "3  St. Petersburg  Barcelona      False         True  20168  03.07.2019   \n",
              "4  St. Petersburg  Barcelona       True        False  31425  05.07.2019   \n",
              "\n",
              "      Date_To  Airline  Travel_time_from  Travel_time_to  \n",
              "1    07.07.19       S7               230             225  \n",
              "2  10.07.2019  Finnair               605             720  \n",
              "3  09.07.2019    Swiss               365             355  \n",
              "4  11.07.2019  Rossiya               255             250  "
            ],
            "text/html": [
              "\n",
              "  <div id=\"df-548cf6b2-185a-4df6-af27-fe86096a0ffa\" class=\"colab-df-container\">\n",
              "    <div>\n",
              "<style scoped>\n",
              "    .dataframe tbody tr th:only-of-type {\n",
              "        vertical-align: middle;\n",
              "    }\n",
              "\n",
              "    .dataframe tbody tr th {\n",
              "        vertical-align: top;\n",
              "    }\n",
              "\n",
              "    .dataframe thead th {\n",
              "        text-align: right;\n",
              "    }\n",
              "</style>\n",
              "<table border=\"1\" class=\"dataframe\">\n",
              "  <thead>\n",
              "    <tr style=\"text-align: right;\">\n",
              "      <th></th>\n",
              "      <th>From</th>\n",
              "      <th>To</th>\n",
              "      <th>Is_Direct</th>\n",
              "      <th>Has_luggage</th>\n",
              "      <th>Price</th>\n",
              "      <th>Date_From</th>\n",
              "      <th>Date_To</th>\n",
              "      <th>Airline</th>\n",
              "      <th>Travel_time_from</th>\n",
              "      <th>Travel_time_to</th>\n",
              "    </tr>\n",
              "  </thead>\n",
              "  <tbody>\n",
              "    <tr>\n",
              "      <th>1</th>\n",
              "      <td>Moscow</td>\n",
              "      <td>Rome</td>\n",
              "      <td>True</td>\n",
              "      <td>False</td>\n",
              "      <td>19250</td>\n",
              "      <td>01.07.19</td>\n",
              "      <td>07.07.19</td>\n",
              "      <td>S7</td>\n",
              "      <td>230</td>\n",
              "      <td>225</td>\n",
              "    </tr>\n",
              "    <tr>\n",
              "      <th>2</th>\n",
              "      <td>St. Petersburg</td>\n",
              "      <td>Rome</td>\n",
              "      <td>False</td>\n",
              "      <td>False</td>\n",
              "      <td>19301</td>\n",
              "      <td>04.07.2019</td>\n",
              "      <td>10.07.2019</td>\n",
              "      <td>Finnair</td>\n",
              "      <td>605</td>\n",
              "      <td>720</td>\n",
              "    </tr>\n",
              "    <tr>\n",
              "      <th>3</th>\n",
              "      <td>St. Petersburg</td>\n",
              "      <td>Barcelona</td>\n",
              "      <td>False</td>\n",
              "      <td>True</td>\n",
              "      <td>20168</td>\n",
              "      <td>03.07.2019</td>\n",
              "      <td>09.07.2019</td>\n",
              "      <td>Swiss</td>\n",
              "      <td>365</td>\n",
              "      <td>355</td>\n",
              "    </tr>\n",
              "    <tr>\n",
              "      <th>4</th>\n",
              "      <td>St. Petersburg</td>\n",
              "      <td>Barcelona</td>\n",
              "      <td>True</td>\n",
              "      <td>False</td>\n",
              "      <td>31425</td>\n",
              "      <td>05.07.2019</td>\n",
              "      <td>11.07.2019</td>\n",
              "      <td>Rossiya</td>\n",
              "      <td>255</td>\n",
              "      <td>250</td>\n",
              "    </tr>\n",
              "  </tbody>\n",
              "</table>\n",
              "</div>\n",
              "    <div class=\"colab-df-buttons\">\n",
              "\n",
              "  <div class=\"colab-df-container\">\n",
              "    <button class=\"colab-df-convert\" onclick=\"convertToInteractive('df-548cf6b2-185a-4df6-af27-fe86096a0ffa')\"\n",
              "            title=\"Convert this dataframe to an interactive table.\"\n",
              "            style=\"display:none;\">\n",
              "\n",
              "  <svg xmlns=\"http://www.w3.org/2000/svg\" height=\"24px\" viewBox=\"0 -960 960 960\">\n",
              "    <path d=\"M120-120v-720h720v720H120Zm60-500h600v-160H180v160Zm220 220h160v-160H400v160Zm0 220h160v-160H400v160ZM180-400h160v-160H180v160Zm440 0h160v-160H620v160ZM180-180h160v-160H180v160Zm440 0h160v-160H620v160Z\"/>\n",
              "  </svg>\n",
              "    </button>\n",
              "\n",
              "  <style>\n",
              "    .colab-df-container {\n",
              "      display:flex;\n",
              "      gap: 12px;\n",
              "    }\n",
              "\n",
              "    .colab-df-convert {\n",
              "      background-color: #E8F0FE;\n",
              "      border: none;\n",
              "      border-radius: 50%;\n",
              "      cursor: pointer;\n",
              "      display: none;\n",
              "      fill: #1967D2;\n",
              "      height: 32px;\n",
              "      padding: 0 0 0 0;\n",
              "      width: 32px;\n",
              "    }\n",
              "\n",
              "    .colab-df-convert:hover {\n",
              "      background-color: #E2EBFA;\n",
              "      box-shadow: 0px 1px 2px rgba(60, 64, 67, 0.3), 0px 1px 3px 1px rgba(60, 64, 67, 0.15);\n",
              "      fill: #174EA6;\n",
              "    }\n",
              "\n",
              "    .colab-df-buttons div {\n",
              "      margin-bottom: 4px;\n",
              "    }\n",
              "\n",
              "    [theme=dark] .colab-df-convert {\n",
              "      background-color: #3B4455;\n",
              "      fill: #D2E3FC;\n",
              "    }\n",
              "\n",
              "    [theme=dark] .colab-df-convert:hover {\n",
              "      background-color: #434B5C;\n",
              "      box-shadow: 0px 1px 3px 1px rgba(0, 0, 0, 0.15);\n",
              "      filter: drop-shadow(0px 1px 2px rgba(0, 0, 0, 0.3));\n",
              "      fill: #FFFFFF;\n",
              "    }\n",
              "  </style>\n",
              "\n",
              "    <script>\n",
              "      const buttonEl =\n",
              "        document.querySelector('#df-548cf6b2-185a-4df6-af27-fe86096a0ffa button.colab-df-convert');\n",
              "      buttonEl.style.display =\n",
              "        google.colab.kernel.accessAllowed ? 'block' : 'none';\n",
              "\n",
              "      async function convertToInteractive(key) {\n",
              "        const element = document.querySelector('#df-548cf6b2-185a-4df6-af27-fe86096a0ffa');\n",
              "        const dataTable =\n",
              "          await google.colab.kernel.invokeFunction('convertToInteractive',\n",
              "                                                    [key], {});\n",
              "        if (!dataTable) return;\n",
              "\n",
              "        const docLinkHtml = 'Like what you see? Visit the ' +\n",
              "          '<a target=\"_blank\" href=https://colab.research.google.com/notebooks/data_table.ipynb>data table notebook</a>'\n",
              "          + ' to learn more about interactive tables.';\n",
              "        element.innerHTML = '';\n",
              "        dataTable['output_type'] = 'display_data';\n",
              "        await google.colab.output.renderOutput(dataTable, element);\n",
              "        const docLink = document.createElement('div');\n",
              "        docLink.innerHTML = docLinkHtml;\n",
              "        element.appendChild(docLink);\n",
              "      }\n",
              "    </script>\n",
              "  </div>\n",
              "\n",
              "\n",
              "<div id=\"df-5336a30d-22c1-4435-a9e1-82f0a122f6a7\">\n",
              "  <button class=\"colab-df-quickchart\" onclick=\"quickchart('df-5336a30d-22c1-4435-a9e1-82f0a122f6a7')\"\n",
              "            title=\"Suggest charts\"\n",
              "            style=\"display:none;\">\n",
              "\n",
              "<svg xmlns=\"http://www.w3.org/2000/svg\" height=\"24px\"viewBox=\"0 0 24 24\"\n",
              "     width=\"24px\">\n",
              "    <g>\n",
              "        <path d=\"M19 3H5c-1.1 0-2 .9-2 2v14c0 1.1.9 2 2 2h14c1.1 0 2-.9 2-2V5c0-1.1-.9-2-2-2zM9 17H7v-7h2v7zm4 0h-2V7h2v10zm4 0h-2v-4h2v4z\"/>\n",
              "    </g>\n",
              "</svg>\n",
              "  </button>\n",
              "\n",
              "<style>\n",
              "  .colab-df-quickchart {\n",
              "      --bg-color: #E8F0FE;\n",
              "      --fill-color: #1967D2;\n",
              "      --hover-bg-color: #E2EBFA;\n",
              "      --hover-fill-color: #174EA6;\n",
              "      --disabled-fill-color: #AAA;\n",
              "      --disabled-bg-color: #DDD;\n",
              "  }\n",
              "\n",
              "  [theme=dark] .colab-df-quickchart {\n",
              "      --bg-color: #3B4455;\n",
              "      --fill-color: #D2E3FC;\n",
              "      --hover-bg-color: #434B5C;\n",
              "      --hover-fill-color: #FFFFFF;\n",
              "      --disabled-bg-color: #3B4455;\n",
              "      --disabled-fill-color: #666;\n",
              "  }\n",
              "\n",
              "  .colab-df-quickchart {\n",
              "    background-color: var(--bg-color);\n",
              "    border: none;\n",
              "    border-radius: 50%;\n",
              "    cursor: pointer;\n",
              "    display: none;\n",
              "    fill: var(--fill-color);\n",
              "    height: 32px;\n",
              "    padding: 0;\n",
              "    width: 32px;\n",
              "  }\n",
              "\n",
              "  .colab-df-quickchart:hover {\n",
              "    background-color: var(--hover-bg-color);\n",
              "    box-shadow: 0 1px 2px rgba(60, 64, 67, 0.3), 0 1px 3px 1px rgba(60, 64, 67, 0.15);\n",
              "    fill: var(--button-hover-fill-color);\n",
              "  }\n",
              "\n",
              "  .colab-df-quickchart-complete:disabled,\n",
              "  .colab-df-quickchart-complete:disabled:hover {\n",
              "    background-color: var(--disabled-bg-color);\n",
              "    fill: var(--disabled-fill-color);\n",
              "    box-shadow: none;\n",
              "  }\n",
              "\n",
              "  .colab-df-spinner {\n",
              "    border: 2px solid var(--fill-color);\n",
              "    border-color: transparent;\n",
              "    border-bottom-color: var(--fill-color);\n",
              "    animation:\n",
              "      spin 1s steps(1) infinite;\n",
              "  }\n",
              "\n",
              "  @keyframes spin {\n",
              "    0% {\n",
              "      border-color: transparent;\n",
              "      border-bottom-color: var(--fill-color);\n",
              "      border-left-color: var(--fill-color);\n",
              "    }\n",
              "    20% {\n",
              "      border-color: transparent;\n",
              "      border-left-color: var(--fill-color);\n",
              "      border-top-color: var(--fill-color);\n",
              "    }\n",
              "    30% {\n",
              "      border-color: transparent;\n",
              "      border-left-color: var(--fill-color);\n",
              "      border-top-color: var(--fill-color);\n",
              "      border-right-color: var(--fill-color);\n",
              "    }\n",
              "    40% {\n",
              "      border-color: transparent;\n",
              "      border-right-color: var(--fill-color);\n",
              "      border-top-color: var(--fill-color);\n",
              "    }\n",
              "    60% {\n",
              "      border-color: transparent;\n",
              "      border-right-color: var(--fill-color);\n",
              "    }\n",
              "    80% {\n",
              "      border-color: transparent;\n",
              "      border-right-color: var(--fill-color);\n",
              "      border-bottom-color: var(--fill-color);\n",
              "    }\n",
              "    90% {\n",
              "      border-color: transparent;\n",
              "      border-bottom-color: var(--fill-color);\n",
              "    }\n",
              "  }\n",
              "</style>\n",
              "\n",
              "  <script>\n",
              "    async function quickchart(key) {\n",
              "      const quickchartButtonEl =\n",
              "        document.querySelector('#' + key + ' button');\n",
              "      quickchartButtonEl.disabled = true;  // To prevent multiple clicks.\n",
              "      quickchartButtonEl.classList.add('colab-df-spinner');\n",
              "      try {\n",
              "        const charts = await google.colab.kernel.invokeFunction(\n",
              "            'suggestCharts', [key], {});\n",
              "      } catch (error) {\n",
              "        console.error('Error during call to suggestCharts:', error);\n",
              "      }\n",
              "      quickchartButtonEl.classList.remove('colab-df-spinner');\n",
              "      quickchartButtonEl.classList.add('colab-df-quickchart-complete');\n",
              "    }\n",
              "    (() => {\n",
              "      let quickchartButtonEl =\n",
              "        document.querySelector('#df-5336a30d-22c1-4435-a9e1-82f0a122f6a7 button');\n",
              "      quickchartButtonEl.style.display =\n",
              "        google.colab.kernel.accessAllowed ? 'block' : 'none';\n",
              "    })();\n",
              "  </script>\n",
              "</div>\n",
              "    </div>\n",
              "  </div>\n"
            ],
            "application/vnd.google.colaboratory.intrinsic+json": {
              "type": "dataframe",
              "repr_error": "0"
            }
          },
          "metadata": {},
          "execution_count": 16
        }
      ],
      "source": [
        "df.query('Travel_time_from < 2 * Travel_time_to ')"
      ]
    },
    {
      "cell_type": "markdown",
      "metadata": {
        "id": "h3MDbsl6jft-"
      },
      "source": [
        "И даже вызывать методы:"
      ]
    },
    {
      "cell_type": "code",
      "execution_count": 17,
      "metadata": {
        "colab": {
          "base_uri": "https://localhost:8080/",
          "height": 143
        },
        "id": "u9BNVT3Fjft-",
        "outputId": "e767c198-cbe3-479c-8cbd-f8509e829d6d"
      },
      "outputs": [
        {
          "output_type": "execute_result",
          "data": {
            "text/plain": [
              "             From         To  Is_Direct  Has_luggage  Price   Date_From  \\\n",
              "1          Moscow       Rome       True        False  19250    01.07.19   \n",
              "3  St. Petersburg  Barcelona      False         True  20168  03.07.2019   \n",
              "4  St. Petersburg  Barcelona       True        False  31425  05.07.2019   \n",
              "\n",
              "      Date_To  Airline  Travel_time_from  Travel_time_to  \n",
              "1    07.07.19       S7               230             225  \n",
              "3  09.07.2019    Swiss               365             355  \n",
              "4  11.07.2019  Rossiya               255             250  "
            ],
            "text/html": [
              "\n",
              "  <div id=\"df-0365996d-636e-4f1e-92d9-f80e175e49b7\" class=\"colab-df-container\">\n",
              "    <div>\n",
              "<style scoped>\n",
              "    .dataframe tbody tr th:only-of-type {\n",
              "        vertical-align: middle;\n",
              "    }\n",
              "\n",
              "    .dataframe tbody tr th {\n",
              "        vertical-align: top;\n",
              "    }\n",
              "\n",
              "    .dataframe thead th {\n",
              "        text-align: right;\n",
              "    }\n",
              "</style>\n",
              "<table border=\"1\" class=\"dataframe\">\n",
              "  <thead>\n",
              "    <tr style=\"text-align: right;\">\n",
              "      <th></th>\n",
              "      <th>From</th>\n",
              "      <th>To</th>\n",
              "      <th>Is_Direct</th>\n",
              "      <th>Has_luggage</th>\n",
              "      <th>Price</th>\n",
              "      <th>Date_From</th>\n",
              "      <th>Date_To</th>\n",
              "      <th>Airline</th>\n",
              "      <th>Travel_time_from</th>\n",
              "      <th>Travel_time_to</th>\n",
              "    </tr>\n",
              "  </thead>\n",
              "  <tbody>\n",
              "    <tr>\n",
              "      <th>1</th>\n",
              "      <td>Moscow</td>\n",
              "      <td>Rome</td>\n",
              "      <td>True</td>\n",
              "      <td>False</td>\n",
              "      <td>19250</td>\n",
              "      <td>01.07.19</td>\n",
              "      <td>07.07.19</td>\n",
              "      <td>S7</td>\n",
              "      <td>230</td>\n",
              "      <td>225</td>\n",
              "    </tr>\n",
              "    <tr>\n",
              "      <th>3</th>\n",
              "      <td>St. Petersburg</td>\n",
              "      <td>Barcelona</td>\n",
              "      <td>False</td>\n",
              "      <td>True</td>\n",
              "      <td>20168</td>\n",
              "      <td>03.07.2019</td>\n",
              "      <td>09.07.2019</td>\n",
              "      <td>Swiss</td>\n",
              "      <td>365</td>\n",
              "      <td>355</td>\n",
              "    </tr>\n",
              "    <tr>\n",
              "      <th>4</th>\n",
              "      <td>St. Petersburg</td>\n",
              "      <td>Barcelona</td>\n",
              "      <td>True</td>\n",
              "      <td>False</td>\n",
              "      <td>31425</td>\n",
              "      <td>05.07.2019</td>\n",
              "      <td>11.07.2019</td>\n",
              "      <td>Rossiya</td>\n",
              "      <td>255</td>\n",
              "      <td>250</td>\n",
              "    </tr>\n",
              "  </tbody>\n",
              "</table>\n",
              "</div>\n",
              "    <div class=\"colab-df-buttons\">\n",
              "\n",
              "  <div class=\"colab-df-container\">\n",
              "    <button class=\"colab-df-convert\" onclick=\"convertToInteractive('df-0365996d-636e-4f1e-92d9-f80e175e49b7')\"\n",
              "            title=\"Convert this dataframe to an interactive table.\"\n",
              "            style=\"display:none;\">\n",
              "\n",
              "  <svg xmlns=\"http://www.w3.org/2000/svg\" height=\"24px\" viewBox=\"0 -960 960 960\">\n",
              "    <path d=\"M120-120v-720h720v720H120Zm60-500h600v-160H180v160Zm220 220h160v-160H400v160Zm0 220h160v-160H400v160ZM180-400h160v-160H180v160Zm440 0h160v-160H620v160ZM180-180h160v-160H180v160Zm440 0h160v-160H620v160Z\"/>\n",
              "  </svg>\n",
              "    </button>\n",
              "\n",
              "  <style>\n",
              "    .colab-df-container {\n",
              "      display:flex;\n",
              "      gap: 12px;\n",
              "    }\n",
              "\n",
              "    .colab-df-convert {\n",
              "      background-color: #E8F0FE;\n",
              "      border: none;\n",
              "      border-radius: 50%;\n",
              "      cursor: pointer;\n",
              "      display: none;\n",
              "      fill: #1967D2;\n",
              "      height: 32px;\n",
              "      padding: 0 0 0 0;\n",
              "      width: 32px;\n",
              "    }\n",
              "\n",
              "    .colab-df-convert:hover {\n",
              "      background-color: #E2EBFA;\n",
              "      box-shadow: 0px 1px 2px rgba(60, 64, 67, 0.3), 0px 1px 3px 1px rgba(60, 64, 67, 0.15);\n",
              "      fill: #174EA6;\n",
              "    }\n",
              "\n",
              "    .colab-df-buttons div {\n",
              "      margin-bottom: 4px;\n",
              "    }\n",
              "\n",
              "    [theme=dark] .colab-df-convert {\n",
              "      background-color: #3B4455;\n",
              "      fill: #D2E3FC;\n",
              "    }\n",
              "\n",
              "    [theme=dark] .colab-df-convert:hover {\n",
              "      background-color: #434B5C;\n",
              "      box-shadow: 0px 1px 3px 1px rgba(0, 0, 0, 0.15);\n",
              "      filter: drop-shadow(0px 1px 2px rgba(0, 0, 0, 0.3));\n",
              "      fill: #FFFFFF;\n",
              "    }\n",
              "  </style>\n",
              "\n",
              "    <script>\n",
              "      const buttonEl =\n",
              "        document.querySelector('#df-0365996d-636e-4f1e-92d9-f80e175e49b7 button.colab-df-convert');\n",
              "      buttonEl.style.display =\n",
              "        google.colab.kernel.accessAllowed ? 'block' : 'none';\n",
              "\n",
              "      async function convertToInteractive(key) {\n",
              "        const element = document.querySelector('#df-0365996d-636e-4f1e-92d9-f80e175e49b7');\n",
              "        const dataTable =\n",
              "          await google.colab.kernel.invokeFunction('convertToInteractive',\n",
              "                                                    [key], {});\n",
              "        if (!dataTable) return;\n",
              "\n",
              "        const docLinkHtml = 'Like what you see? Visit the ' +\n",
              "          '<a target=\"_blank\" href=https://colab.research.google.com/notebooks/data_table.ipynb>data table notebook</a>'\n",
              "          + ' to learn more about interactive tables.';\n",
              "        element.innerHTML = '';\n",
              "        dataTable['output_type'] = 'display_data';\n",
              "        await google.colab.output.renderOutput(dataTable, element);\n",
              "        const docLink = document.createElement('div');\n",
              "        docLink.innerHTML = docLinkHtml;\n",
              "        element.appendChild(docLink);\n",
              "      }\n",
              "    </script>\n",
              "  </div>\n",
              "\n",
              "\n",
              "<div id=\"df-e68e479d-d7e1-4a0d-b448-95ad912ea5ec\">\n",
              "  <button class=\"colab-df-quickchart\" onclick=\"quickchart('df-e68e479d-d7e1-4a0d-b448-95ad912ea5ec')\"\n",
              "            title=\"Suggest charts\"\n",
              "            style=\"display:none;\">\n",
              "\n",
              "<svg xmlns=\"http://www.w3.org/2000/svg\" height=\"24px\"viewBox=\"0 0 24 24\"\n",
              "     width=\"24px\">\n",
              "    <g>\n",
              "        <path d=\"M19 3H5c-1.1 0-2 .9-2 2v14c0 1.1.9 2 2 2h14c1.1 0 2-.9 2-2V5c0-1.1-.9-2-2-2zM9 17H7v-7h2v7zm4 0h-2V7h2v10zm4 0h-2v-4h2v4z\"/>\n",
              "    </g>\n",
              "</svg>\n",
              "  </button>\n",
              "\n",
              "<style>\n",
              "  .colab-df-quickchart {\n",
              "      --bg-color: #E8F0FE;\n",
              "      --fill-color: #1967D2;\n",
              "      --hover-bg-color: #E2EBFA;\n",
              "      --hover-fill-color: #174EA6;\n",
              "      --disabled-fill-color: #AAA;\n",
              "      --disabled-bg-color: #DDD;\n",
              "  }\n",
              "\n",
              "  [theme=dark] .colab-df-quickchart {\n",
              "      --bg-color: #3B4455;\n",
              "      --fill-color: #D2E3FC;\n",
              "      --hover-bg-color: #434B5C;\n",
              "      --hover-fill-color: #FFFFFF;\n",
              "      --disabled-bg-color: #3B4455;\n",
              "      --disabled-fill-color: #666;\n",
              "  }\n",
              "\n",
              "  .colab-df-quickchart {\n",
              "    background-color: var(--bg-color);\n",
              "    border: none;\n",
              "    border-radius: 50%;\n",
              "    cursor: pointer;\n",
              "    display: none;\n",
              "    fill: var(--fill-color);\n",
              "    height: 32px;\n",
              "    padding: 0;\n",
              "    width: 32px;\n",
              "  }\n",
              "\n",
              "  .colab-df-quickchart:hover {\n",
              "    background-color: var(--hover-bg-color);\n",
              "    box-shadow: 0 1px 2px rgba(60, 64, 67, 0.3), 0 1px 3px 1px rgba(60, 64, 67, 0.15);\n",
              "    fill: var(--button-hover-fill-color);\n",
              "  }\n",
              "\n",
              "  .colab-df-quickchart-complete:disabled,\n",
              "  .colab-df-quickchart-complete:disabled:hover {\n",
              "    background-color: var(--disabled-bg-color);\n",
              "    fill: var(--disabled-fill-color);\n",
              "    box-shadow: none;\n",
              "  }\n",
              "\n",
              "  .colab-df-spinner {\n",
              "    border: 2px solid var(--fill-color);\n",
              "    border-color: transparent;\n",
              "    border-bottom-color: var(--fill-color);\n",
              "    animation:\n",
              "      spin 1s steps(1) infinite;\n",
              "  }\n",
              "\n",
              "  @keyframes spin {\n",
              "    0% {\n",
              "      border-color: transparent;\n",
              "      border-bottom-color: var(--fill-color);\n",
              "      border-left-color: var(--fill-color);\n",
              "    }\n",
              "    20% {\n",
              "      border-color: transparent;\n",
              "      border-left-color: var(--fill-color);\n",
              "      border-top-color: var(--fill-color);\n",
              "    }\n",
              "    30% {\n",
              "      border-color: transparent;\n",
              "      border-left-color: var(--fill-color);\n",
              "      border-top-color: var(--fill-color);\n",
              "      border-right-color: var(--fill-color);\n",
              "    }\n",
              "    40% {\n",
              "      border-color: transparent;\n",
              "      border-right-color: var(--fill-color);\n",
              "      border-top-color: var(--fill-color);\n",
              "    }\n",
              "    60% {\n",
              "      border-color: transparent;\n",
              "      border-right-color: var(--fill-color);\n",
              "    }\n",
              "    80% {\n",
              "      border-color: transparent;\n",
              "      border-right-color: var(--fill-color);\n",
              "      border-bottom-color: var(--fill-color);\n",
              "    }\n",
              "    90% {\n",
              "      border-color: transparent;\n",
              "      border-bottom-color: var(--fill-color);\n",
              "    }\n",
              "  }\n",
              "</style>\n",
              "\n",
              "  <script>\n",
              "    async function quickchart(key) {\n",
              "      const quickchartButtonEl =\n",
              "        document.querySelector('#' + key + ' button');\n",
              "      quickchartButtonEl.disabled = true;  // To prevent multiple clicks.\n",
              "      quickchartButtonEl.classList.add('colab-df-spinner');\n",
              "      try {\n",
              "        const charts = await google.colab.kernel.invokeFunction(\n",
              "            'suggestCharts', [key], {});\n",
              "      } catch (error) {\n",
              "        console.error('Error during call to suggestCharts:', error);\n",
              "      }\n",
              "      quickchartButtonEl.classList.remove('colab-df-spinner');\n",
              "      quickchartButtonEl.classList.add('colab-df-quickchart-complete');\n",
              "    }\n",
              "    (() => {\n",
              "      let quickchartButtonEl =\n",
              "        document.querySelector('#df-e68e479d-d7e1-4a0d-b448-95ad912ea5ec button');\n",
              "      quickchartButtonEl.style.display =\n",
              "        google.colab.kernel.accessAllowed ? 'block' : 'none';\n",
              "    })();\n",
              "  </script>\n",
              "</div>\n",
              "    </div>\n",
              "  </div>\n"
            ],
            "application/vnd.google.colaboratory.intrinsic+json": {
              "type": "dataframe",
              "repr_error": "0"
            }
          },
          "metadata": {},
          "execution_count": 17
        }
      ],
      "source": [
        "df.query('Travel_time_from < Travel_time_to.mean()')"
      ]
    },
    {
      "cell_type": "markdown",
      "metadata": {
        "id": "vlL6sDqCjft-"
      },
      "source": [
        "Ещё в **query()** можно включать внешние переменные (не из датафрейма). Когда упоминаете такую переменную, помечайте её знаком @:"
      ]
    },
    {
      "cell_type": "code",
      "execution_count": 18,
      "metadata": {
        "colab": {
          "base_uri": "https://localhost:8080/",
          "height": 112
        },
        "id": "a8F9ptP_jft-",
        "outputId": "3140c89c-bdef-45a3-f565-a81fb0a97c24"
      },
      "outputs": [
        {
          "output_type": "execute_result",
          "data": {
            "text/plain": [
              "             From    To  Is_Direct  Has_luggage  Price   Date_From  \\\n",
              "1          Moscow  Rome       True        False  19250    01.07.19   \n",
              "2  St. Petersburg  Rome      False        False  19301  04.07.2019   \n",
              "\n",
              "      Date_To  Airline  Travel_time_from  Travel_time_to  \n",
              "1    07.07.19       S7               230             225  \n",
              "2  10.07.2019  Finnair               605             720  "
            ],
            "text/html": [
              "\n",
              "  <div id=\"df-41d3fd89-1793-45c1-905d-444bceeea2f4\" class=\"colab-df-container\">\n",
              "    <div>\n",
              "<style scoped>\n",
              "    .dataframe tbody tr th:only-of-type {\n",
              "        vertical-align: middle;\n",
              "    }\n",
              "\n",
              "    .dataframe tbody tr th {\n",
              "        vertical-align: top;\n",
              "    }\n",
              "\n",
              "    .dataframe thead th {\n",
              "        text-align: right;\n",
              "    }\n",
              "</style>\n",
              "<table border=\"1\" class=\"dataframe\">\n",
              "  <thead>\n",
              "    <tr style=\"text-align: right;\">\n",
              "      <th></th>\n",
              "      <th>From</th>\n",
              "      <th>To</th>\n",
              "      <th>Is_Direct</th>\n",
              "      <th>Has_luggage</th>\n",
              "      <th>Price</th>\n",
              "      <th>Date_From</th>\n",
              "      <th>Date_To</th>\n",
              "      <th>Airline</th>\n",
              "      <th>Travel_time_from</th>\n",
              "      <th>Travel_time_to</th>\n",
              "    </tr>\n",
              "  </thead>\n",
              "  <tbody>\n",
              "    <tr>\n",
              "      <th>1</th>\n",
              "      <td>Moscow</td>\n",
              "      <td>Rome</td>\n",
              "      <td>True</td>\n",
              "      <td>False</td>\n",
              "      <td>19250</td>\n",
              "      <td>01.07.19</td>\n",
              "      <td>07.07.19</td>\n",
              "      <td>S7</td>\n",
              "      <td>230</td>\n",
              "      <td>225</td>\n",
              "    </tr>\n",
              "    <tr>\n",
              "      <th>2</th>\n",
              "      <td>St. Petersburg</td>\n",
              "      <td>Rome</td>\n",
              "      <td>False</td>\n",
              "      <td>False</td>\n",
              "      <td>19301</td>\n",
              "      <td>04.07.2019</td>\n",
              "      <td>10.07.2019</td>\n",
              "      <td>Finnair</td>\n",
              "      <td>605</td>\n",
              "      <td>720</td>\n",
              "    </tr>\n",
              "  </tbody>\n",
              "</table>\n",
              "</div>\n",
              "    <div class=\"colab-df-buttons\">\n",
              "\n",
              "  <div class=\"colab-df-container\">\n",
              "    <button class=\"colab-df-convert\" onclick=\"convertToInteractive('df-41d3fd89-1793-45c1-905d-444bceeea2f4')\"\n",
              "            title=\"Convert this dataframe to an interactive table.\"\n",
              "            style=\"display:none;\">\n",
              "\n",
              "  <svg xmlns=\"http://www.w3.org/2000/svg\" height=\"24px\" viewBox=\"0 -960 960 960\">\n",
              "    <path d=\"M120-120v-720h720v720H120Zm60-500h600v-160H180v160Zm220 220h160v-160H400v160Zm0 220h160v-160H400v160ZM180-400h160v-160H180v160Zm440 0h160v-160H620v160ZM180-180h160v-160H180v160Zm440 0h160v-160H620v160Z\"/>\n",
              "  </svg>\n",
              "    </button>\n",
              "\n",
              "  <style>\n",
              "    .colab-df-container {\n",
              "      display:flex;\n",
              "      gap: 12px;\n",
              "    }\n",
              "\n",
              "    .colab-df-convert {\n",
              "      background-color: #E8F0FE;\n",
              "      border: none;\n",
              "      border-radius: 50%;\n",
              "      cursor: pointer;\n",
              "      display: none;\n",
              "      fill: #1967D2;\n",
              "      height: 32px;\n",
              "      padding: 0 0 0 0;\n",
              "      width: 32px;\n",
              "    }\n",
              "\n",
              "    .colab-df-convert:hover {\n",
              "      background-color: #E2EBFA;\n",
              "      box-shadow: 0px 1px 2px rgba(60, 64, 67, 0.3), 0px 1px 3px 1px rgba(60, 64, 67, 0.15);\n",
              "      fill: #174EA6;\n",
              "    }\n",
              "\n",
              "    .colab-df-buttons div {\n",
              "      margin-bottom: 4px;\n",
              "    }\n",
              "\n",
              "    [theme=dark] .colab-df-convert {\n",
              "      background-color: #3B4455;\n",
              "      fill: #D2E3FC;\n",
              "    }\n",
              "\n",
              "    [theme=dark] .colab-df-convert:hover {\n",
              "      background-color: #434B5C;\n",
              "      box-shadow: 0px 1px 3px 1px rgba(0, 0, 0, 0.15);\n",
              "      filter: drop-shadow(0px 1px 2px rgba(0, 0, 0, 0.3));\n",
              "      fill: #FFFFFF;\n",
              "    }\n",
              "  </style>\n",
              "\n",
              "    <script>\n",
              "      const buttonEl =\n",
              "        document.querySelector('#df-41d3fd89-1793-45c1-905d-444bceeea2f4 button.colab-df-convert');\n",
              "      buttonEl.style.display =\n",
              "        google.colab.kernel.accessAllowed ? 'block' : 'none';\n",
              "\n",
              "      async function convertToInteractive(key) {\n",
              "        const element = document.querySelector('#df-41d3fd89-1793-45c1-905d-444bceeea2f4');\n",
              "        const dataTable =\n",
              "          await google.colab.kernel.invokeFunction('convertToInteractive',\n",
              "                                                    [key], {});\n",
              "        if (!dataTable) return;\n",
              "\n",
              "        const docLinkHtml = 'Like what you see? Visit the ' +\n",
              "          '<a target=\"_blank\" href=https://colab.research.google.com/notebooks/data_table.ipynb>data table notebook</a>'\n",
              "          + ' to learn more about interactive tables.';\n",
              "        element.innerHTML = '';\n",
              "        dataTable['output_type'] = 'display_data';\n",
              "        await google.colab.output.renderOutput(dataTable, element);\n",
              "        const docLink = document.createElement('div');\n",
              "        docLink.innerHTML = docLinkHtml;\n",
              "        element.appendChild(docLink);\n",
              "      }\n",
              "    </script>\n",
              "  </div>\n",
              "\n",
              "\n",
              "<div id=\"df-6dfd9afd-ba81-44d2-b0dc-93ceffcadeae\">\n",
              "  <button class=\"colab-df-quickchart\" onclick=\"quickchart('df-6dfd9afd-ba81-44d2-b0dc-93ceffcadeae')\"\n",
              "            title=\"Suggest charts\"\n",
              "            style=\"display:none;\">\n",
              "\n",
              "<svg xmlns=\"http://www.w3.org/2000/svg\" height=\"24px\"viewBox=\"0 0 24 24\"\n",
              "     width=\"24px\">\n",
              "    <g>\n",
              "        <path d=\"M19 3H5c-1.1 0-2 .9-2 2v14c0 1.1.9 2 2 2h14c1.1 0 2-.9 2-2V5c0-1.1-.9-2-2-2zM9 17H7v-7h2v7zm4 0h-2V7h2v10zm4 0h-2v-4h2v4z\"/>\n",
              "    </g>\n",
              "</svg>\n",
              "  </button>\n",
              "\n",
              "<style>\n",
              "  .colab-df-quickchart {\n",
              "      --bg-color: #E8F0FE;\n",
              "      --fill-color: #1967D2;\n",
              "      --hover-bg-color: #E2EBFA;\n",
              "      --hover-fill-color: #174EA6;\n",
              "      --disabled-fill-color: #AAA;\n",
              "      --disabled-bg-color: #DDD;\n",
              "  }\n",
              "\n",
              "  [theme=dark] .colab-df-quickchart {\n",
              "      --bg-color: #3B4455;\n",
              "      --fill-color: #D2E3FC;\n",
              "      --hover-bg-color: #434B5C;\n",
              "      --hover-fill-color: #FFFFFF;\n",
              "      --disabled-bg-color: #3B4455;\n",
              "      --disabled-fill-color: #666;\n",
              "  }\n",
              "\n",
              "  .colab-df-quickchart {\n",
              "    background-color: var(--bg-color);\n",
              "    border: none;\n",
              "    border-radius: 50%;\n",
              "    cursor: pointer;\n",
              "    display: none;\n",
              "    fill: var(--fill-color);\n",
              "    height: 32px;\n",
              "    padding: 0;\n",
              "    width: 32px;\n",
              "  }\n",
              "\n",
              "  .colab-df-quickchart:hover {\n",
              "    background-color: var(--hover-bg-color);\n",
              "    box-shadow: 0 1px 2px rgba(60, 64, 67, 0.3), 0 1px 3px 1px rgba(60, 64, 67, 0.15);\n",
              "    fill: var(--button-hover-fill-color);\n",
              "  }\n",
              "\n",
              "  .colab-df-quickchart-complete:disabled,\n",
              "  .colab-df-quickchart-complete:disabled:hover {\n",
              "    background-color: var(--disabled-bg-color);\n",
              "    fill: var(--disabled-fill-color);\n",
              "    box-shadow: none;\n",
              "  }\n",
              "\n",
              "  .colab-df-spinner {\n",
              "    border: 2px solid var(--fill-color);\n",
              "    border-color: transparent;\n",
              "    border-bottom-color: var(--fill-color);\n",
              "    animation:\n",
              "      spin 1s steps(1) infinite;\n",
              "  }\n",
              "\n",
              "  @keyframes spin {\n",
              "    0% {\n",
              "      border-color: transparent;\n",
              "      border-bottom-color: var(--fill-color);\n",
              "      border-left-color: var(--fill-color);\n",
              "    }\n",
              "    20% {\n",
              "      border-color: transparent;\n",
              "      border-left-color: var(--fill-color);\n",
              "      border-top-color: var(--fill-color);\n",
              "    }\n",
              "    30% {\n",
              "      border-color: transparent;\n",
              "      border-left-color: var(--fill-color);\n",
              "      border-top-color: var(--fill-color);\n",
              "      border-right-color: var(--fill-color);\n",
              "    }\n",
              "    40% {\n",
              "      border-color: transparent;\n",
              "      border-right-color: var(--fill-color);\n",
              "      border-top-color: var(--fill-color);\n",
              "    }\n",
              "    60% {\n",
              "      border-color: transparent;\n",
              "      border-right-color: var(--fill-color);\n",
              "    }\n",
              "    80% {\n",
              "      border-color: transparent;\n",
              "      border-right-color: var(--fill-color);\n",
              "      border-bottom-color: var(--fill-color);\n",
              "    }\n",
              "    90% {\n",
              "      border-color: transparent;\n",
              "      border-bottom-color: var(--fill-color);\n",
              "    }\n",
              "  }\n",
              "</style>\n",
              "\n",
              "  <script>\n",
              "    async function quickchart(key) {\n",
              "      const quickchartButtonEl =\n",
              "        document.querySelector('#' + key + ' button');\n",
              "      quickchartButtonEl.disabled = true;  // To prevent multiple clicks.\n",
              "      quickchartButtonEl.classList.add('colab-df-spinner');\n",
              "      try {\n",
              "        const charts = await google.colab.kernel.invokeFunction(\n",
              "            'suggestCharts', [key], {});\n",
              "      } catch (error) {\n",
              "        console.error('Error during call to suggestCharts:', error);\n",
              "      }\n",
              "      quickchartButtonEl.classList.remove('colab-df-spinner');\n",
              "      quickchartButtonEl.classList.add('colab-df-quickchart-complete');\n",
              "    }\n",
              "    (() => {\n",
              "      let quickchartButtonEl =\n",
              "        document.querySelector('#df-6dfd9afd-ba81-44d2-b0dc-93ceffcadeae button');\n",
              "      quickchartButtonEl.style.display =\n",
              "        google.colab.kernel.accessAllowed ? 'block' : 'none';\n",
              "    })();\n",
              "  </script>\n",
              "</div>\n",
              "    </div>\n",
              "  </div>\n"
            ],
            "application/vnd.google.colaboratory.intrinsic+json": {
              "type": "dataframe",
              "repr_error": "0"
            }
          },
          "metadata": {},
          "execution_count": 18
        }
      ],
      "source": [
        "maximum_price = 20000\n",
        "df.query('Price <= @maximum_price')\n"
      ]
    },
    {
      "cell_type": "markdown",
      "metadata": {
        "id": "dcqC5kv7jfuD"
      },
      "source": [
        "### Задача 2   \n",
        "1.Выберите строки, где: Has_luggage равно False и Airline не равно ни S7, ни Rossiya. Напечатайте полученную выборку на экране."
      ]
    },
    {
      "cell_type": "code",
      "execution_count": 20,
      "metadata": {
        "colab": {
          "base_uri": "https://localhost:8080/"
        },
        "id": "vnfnHwQXjfuD",
        "outputId": "552b97b8-de0f-49b4-9098-bda0fe221f48"
      },
      "outputs": [
        {
          "output_type": "stream",
          "name": "stdout",
          "text": [
            "             From    To  Is_Direct  Has_luggage  Price   Date_From  \\\n",
            "2  St. Petersburg  Rome      False        False  19301  04.07.2019   \n",
            "\n",
            "      Date_To  Airline  Travel_time_from  Travel_time_to  \n",
            "2  10.07.2019  Finnair               605             720  \n"
          ]
        }
      ],
      "source": [
        "#Youre code is here\n",
        "print(df.query('Has_luggage==False and Airline!=\"S7\" and Airline!=\"Rossiya\"'))"
      ]
    },
    {
      "cell_type": "markdown",
      "metadata": {
        "id": "H9YSAuP7jfuD"
      },
      "source": [
        "### Задача 3\n",
        "Выберите строки, где Airline равно \"Belavia\", \"S7\" или \"Rossiya\", при этом 'Travel_time_from' меньше переменной под названием max_time. Напечатайте полученную выборку на экране."
      ]
    },
    {
      "cell_type": "code",
      "execution_count": 21,
      "metadata": {
        "colab": {
          "base_uri": "https://localhost:8080/"
        },
        "id": "YfBXDrqojfuD",
        "outputId": "65aa44f4-4893-4caa-94b1-397a46bccb81"
      },
      "outputs": [
        {
          "output_type": "stream",
          "name": "stdout",
          "text": [
            "             From         To  Is_Direct  Has_luggage  Price   Date_From  \\\n",
            "1          Moscow       Rome       True        False  19250    01.07.19   \n",
            "4  St. Petersburg  Barcelona       True        False  31425  05.07.2019   \n",
            "\n",
            "      Date_To  Airline  Travel_time_from  Travel_time_to  \n",
            "1    07.07.19       S7               230             225  \n",
            "4  11.07.2019  Rossiya               255             250  \n"
          ]
        }
      ],
      "source": [
        "#Youre code is here\n",
        "max_time = 300\n",
        "print(df.query('(Travel_time_from < @max_time) and (Airline==\"Belavia\" or Airline==\"S7\" or Airline==\"Rossiya\")'))"
      ]
    },
    {
      "cell_type": "markdown",
      "metadata": {
        "id": "dJnDQ397jfuD"
      },
      "source": [
        "# Срезы в действии\n",
        "\n",
        "Наконец-то вы готовы строить срезы на практике.\n",
        "Вспомним, как выглядела диаграмма размаха времени заезда на АЗС:\n"
      ]
    },
    {
      "cell_type": "code",
      "execution_count": 22,
      "metadata": {
        "colab": {
          "base_uri": "https://localhost:8080/",
          "height": 431
        },
        "id": "HHIs75EnjfuD",
        "outputId": "4e1e7ac6-92b8-43df-c226-6e2d5cd4bf08"
      },
      "outputs": [
        {
          "output_type": "display_data",
          "data": {
            "text/plain": [
              "<Figure size 640x480 with 1 Axes>"
            ],
            "image/png": "[encoded data removed]"
          },
          "metadata": {}
        }
      ],
      "source": [
        "data.boxplot();"
      ]
    },
    {
      "cell_type": "markdown",
      "metadata": {
        "id": "26pQnR9EjfuE"
      },
      "source": [
        "Есть несколько заездов со временем около 30 000 секунд (это около 8 часов). Крайне маловероятно, что водители заправляются так долго. Они повстречали свою любовь или случайно вырвали заправочный пистолет? А может, всё одновременно?\n",
        "\n",
        "У вас есть всё необходимое, чтобы с этим разобраться.\n",
        "\n",
        "Чтобы построить графики, обращаются к библиотеке **matplotlib** (от англ. mathematical plotting library, «библиотека математических построений»). Точнее к её модулю — **pyplot:**\n"
      ]
    },
    {
      "cell_type": "code",
      "execution_count": 23,
      "metadata": {
        "id": "FbsA65xPjfuE"
      },
      "outputs": [],
      "source": [
        "import matplotlib.pyplot as plt"
      ]
    },
    {
      "cell_type": "markdown",
      "metadata": {
        "id": "3I5vljsxjfuE"
      },
      "source": [
        "Для простейших графиков импортировать её не обязательно. Однако вызов библиотеки может помочь, когда вывод графиков нужно разделить. После команды вывода графика вызывают метод **show()**. Он позволяет посмотреть, как отличаются гистограммы с разным числом корзин:"
      ]
    },
    {
      "cell_type": "code",
      "execution_count": 24,
      "metadata": {
        "colab": {
          "base_uri": "https://localhost:8080/",
          "height": 887
        },
        "id": "wu5jNb0MjfuE",
        "outputId": "c75f4360-cb94-41c4-e37b-78f285e6a28a"
      },
      "outputs": [
        {
          "output_type": "display_data",
          "data": {
            "text/plain": [
              "<Figure size 640x480 with 1 Axes>"
            ],
            "image/png": "[encoded data removed]"
          },
          "metadata": {}
        },
        {
          "output_type": "display_data",
          "data": {
            "text/plain": [
              "<Figure size 640x480 with 1 Axes>"
            ],
            "image/png": "[encoded data removed]"
          },
          "metadata": {}
        }
      ],
      "source": [
        "data.hist(bins=10)\n",
        "plt.show()\n",
        "data.hist(bins=100)\n",
        "plt.show()\n"
      ]
    },
    {
      "cell_type": "markdown",
      "metadata": {
        "id": "SpZ-jLrxjfuE"
      },
      "source": [
        "### Задача 4\n",
        "Узнайте, на каких АЗС водители проводят больше всего времени. Выведите топ-10 строк с самой долгой заправкой.\n"
      ]
    },
    {
      "cell_type": "code",
      "execution_count": 25,
      "metadata": {
        "colab": {
          "base_uri": "https://localhost:8080/"
        },
        "id": "mOy0e-KmjfuE",
        "outputId": "0dab8a2b-4c57-429f-9f90-5cc8c9449ed4"
      },
      "outputs": [
        {
          "output_type": "stream",
          "name": "stdout",
          "text": [
            "              date_time        id  time_spent      name\n",
            "114797  20180402T055708  3c1e4c52     28925.0   Василек\n",
            "27147   20180406T080254  4b5f2af5     28519.0   Немезия\n",
            "60547   20180408T000002  cf1ba8a5     28292.0   Василек\n",
            "19042   20180408T204208  5410e876     23696.0   Василек\n",
            "118597  20180408T165020  3c1e4c52     21184.0   Василек\n",
            "118058  20180402T111333  3c1e4c52     20359.0   Василек\n",
            "114406  20180408T083722  3c1e4c52     19886.0   Василек\n",
            "132164  20180405T160745  627ea5e3     19445.0    Левкой\n",
            "281360  20180406T180459  d0c0928d     18614.0      Пион\n",
            "165326  20180402T230204  3af3bb71     18569.0  Агератум\n"
          ]
        }
      ],
      "source": [
        "#Youre code is here\n",
        "print(data.sort_values(by='time_spent', ascending=False).head(10))"
      ]
    },
    {
      "cell_type": "markdown",
      "metadata": {
        "id": "HFLWRtY4jfuE"
      },
      "source": [
        "### Задача 5\n",
        "Сохраните срез данных с id == \"3c1e4c52\" в переменной sample (англ. «выборка, проба»). Выведите количество заездов на эту АЗС."
      ]
    },
    {
      "cell_type": "code",
      "execution_count": 26,
      "metadata": {
        "colab": {
          "base_uri": "https://localhost:8080/"
        },
        "id": "6kz5lfHPjfuE",
        "outputId": "248f6d06-cd64-4a61-d1c3-03fe76ff361e"
      },
      "outputs": [
        {
          "output_type": "stream",
          "name": "stdout",
          "text": [
            "5814\n"
          ]
        }
      ],
      "source": [
        "#Youre code is here\n",
        "sample = data.query('id == \"3c1e4c52\"')\n",
        "print(sample['date_time'].count())"
      ]
    },
    {
      "cell_type": "markdown",
      "metadata": {
        "id": "o39OEhEAjfuE"
      },
      "source": [
        "### Задача 6\n",
        "Посмотрим, как они распределены, отличаются ли от остальных данных. Вспомните, как выглядела гистограмма по всему набору данных.\n",
        "Постройте гистограмму времён заезда на все АЗС. И аналогичную гистограмму для выбранной АЗС (мы уже сохранили данные в переменную sample). Для обеих гистограмм задайте диапазон 0-1500 секунд и 100 корзин.\n"
      ]
    },
    {
      "cell_type": "code",
      "execution_count": 27,
      "metadata": {
        "colab": {
          "base_uri": "https://localhost:8080/",
          "height": 843
        },
        "id": "wnaPA5E6jfuF",
        "outputId": "a1fc242a-1771-4600-894c-68abc69db6f5"
      },
      "outputs": [
        {
          "output_type": "display_data",
          "data": {
            "text/plain": [
              "<Figure size 640x480 with 1 Axes>"
            ],
            "image/png": "[encoded data removed]"
          },
          "metadata": {}
        },
        {
          "output_type": "display_data",
          "data": {
            "text/plain": [
              "<Figure size 640x480 with 1 Axes>"
            ],
            "image/png": "[encoded data removed]"
          },
          "metadata": {}
        }
      ],
      "source": [
        "#Youre code is here\n",
        "data['time_spent'].hist(range=(0,1500), bins=100)\n",
        "plt.show()\n",
        "sample['time_spent'].hist(range=(0,1500), bins=100)\n",
        "plt.show()"
      ]
    },
    {
      "cell_type": "markdown",
      "metadata": {
        "id": "b8I23zorjfuF"
      },
      "source": [
        "## «Слишком долгая» заправка — это сколько?\n",
        "Нетипично долгие заезды признаем выбросами и отбросим. Почему так можно?\n",
        "Во-первых, их немного. Во-вторых, скорее всего, такие заезды — не заправки. Например, водитель мог отдыхать, есть или заниматься чем-то ещё. Раз это не заправки в чистом виде, значит в рамках нашего исследования такие заезды не интересны.\n",
        "Как определить, что заправка «слишком долгая»? Где провести границу между заправкой автомобиля и прочими занятиями на АЗС?\n",
        "Обратимся к гистограмме:\n",
        "![image.png](attachment:image.png)"
      ]
    },
    {
      "cell_type": "markdown",
      "metadata": {
        "id": "6oGvyfMojfuF"
      },
      "source": [
        "Заправки продолжительностью 600 секунд — уже редки. Дольше 800 секунд почти не заправляются. А на участке более 1300 секунд гистограмма сливается с нулём (это не значит, что там ровно 0, но таких заправок единицы).\n",
        "\n",
        "Примем верхнюю границу в 1000 секунд. Это число кажется разумным: дольше заправляются редко. Отбросив значения больше 1000, мы не потеряем много данных. Да и вряд ли водители тратят на заправку больше 1000 секунд (16 минут).\n",
        "\n",
        "Решено. Продолжаем работать с наблюдениями, удовлетворяющими условию: **data.query('time_spent < 1000')**\n",
        "\n"
      ]
    },
    {
      "cell_type": "markdown",
      "metadata": {
        "id": "H9Z4EZHJjfuF"
      },
      "source": [
        "## Работа с датой и временем\n",
        "Мы посчитали подозрительно долгие заправки выбросами. Но что делать с чрезвычайно короткими заправками? Изучим их подробнее. Узнаем, связана ли их продолжительность со временем заезда на АЗС.\n"
      ]
    },
    {
      "cell_type": "code",
      "execution_count": 28,
      "metadata": {
        "colab": {
          "base_uri": "https://localhost:8080/",
          "height": 206
        },
        "id": "4FpOJgRpjfuF",
        "outputId": "92541caf-63bb-41be-9b2a-d4a4c7da7c34"
      },
      "outputs": [
        {
          "output_type": "execute_result",
          "data": {
            "text/plain": [
              "         date_time        id  time_spent     name\n",
              "0  20180406T165358  76144fb2        98.0  Василек\n",
              "1  20180404T173913  76144fb2        15.0  Василек\n",
              "2  20180403T172824  76144fb2       220.0  Василек\n",
              "3  20180407T070441  76144fb2        19.0  Василек\n",
              "4  20180404T132049  76144fb2        14.0  Василек"
            ],
            "text/html": [
              "\n",
              "  <div id=\"df-a0f95e36-e975-42e0-8b36-c9ae6fbe0432\" class=\"colab-df-container\">\n",
              "    <div>\n",
              "<style scoped>\n",
              "    .dataframe tbody tr th:only-of-type {\n",
              "        vertical-align: middle;\n",
              "    }\n",
              "\n",
              "    .dataframe tbody tr th {\n",
              "        vertical-align: top;\n",
              "    }\n",
              "\n",
              "    .dataframe thead th {\n",
              "        text-align: right;\n",
              "    }\n",
              "</style>\n",
              "<table border=\"1\" class=\"dataframe\">\n",
              "  <thead>\n",
              "    <tr style=\"text-align: right;\">\n",
              "      <th></th>\n",
              "      <th>date_time</th>\n",
              "      <th>id</th>\n",
              "      <th>time_spent</th>\n",
              "      <th>name</th>\n",
              "    </tr>\n",
              "  </thead>\n",
              "  <tbody>\n",
              "    <tr>\n",
              "      <th>0</th>\n",
              "      <td>20180406T165358</td>\n",
              "      <td>76144fb2</td>\n",
              "      <td>98.0</td>\n",
              "      <td>Василек</td>\n",
              "    </tr>\n",
              "    <tr>\n",
              "      <th>1</th>\n",
              "      <td>20180404T173913</td>\n",
              "      <td>76144fb2</td>\n",
              "      <td>15.0</td>\n",
              "      <td>Василек</td>\n",
              "    </tr>\n",
              "    <tr>\n",
              "      <th>2</th>\n",
              "      <td>20180403T172824</td>\n",
              "      <td>76144fb2</td>\n",
              "      <td>220.0</td>\n",
              "      <td>Василек</td>\n",
              "    </tr>\n",
              "    <tr>\n",
              "      <th>3</th>\n",
              "      <td>20180407T070441</td>\n",
              "      <td>76144fb2</td>\n",
              "      <td>19.0</td>\n",
              "      <td>Василек</td>\n",
              "    </tr>\n",
              "    <tr>\n",
              "      <th>4</th>\n",
              "      <td>20180404T132049</td>\n",
              "      <td>76144fb2</td>\n",
              "      <td>14.0</td>\n",
              "      <td>Василек</td>\n",
              "    </tr>\n",
              "  </tbody>\n",
              "</table>\n",
              "</div>\n",
              "    <div class=\"colab-df-buttons\">\n",
              "\n",
              "  <div class=\"colab-df-container\">\n",
              "    <button class=\"colab-df-convert\" onclick=\"convertToInteractive('df-a0f95e36-e975-42e0-8b36-c9ae6fbe0432')\"\n",
              "            title=\"Convert this dataframe to an interactive table.\"\n",
              "            style=\"display:none;\">\n",
              "\n",
              "  <svg xmlns=\"http://www.w3.org/2000/svg\" height=\"24px\" viewBox=\"0 -960 960 960\">\n",
              "    <path d=\"M120-120v-720h720v720H120Zm60-500h600v-160H180v160Zm220 220h160v-160H400v160Zm0 220h160v-160H400v160ZM180-400h160v-160H180v160Zm440 0h160v-160H620v160ZM180-180h160v-160H180v160Zm440 0h160v-160H620v160Z\"/>\n",
              "  </svg>\n",
              "    </button>\n",
              "\n",
              "  <style>\n",
              "    .colab-df-container {\n",
              "      display:flex;\n",
              "      gap: 12px;\n",
              "    }\n",
              "\n",
              "    .colab-df-convert {\n",
              "      background-color: #E8F0FE;\n",
              "      border: none;\n",
              "      border-radius: 50%;\n",
              "      cursor: pointer;\n",
              "      display: none;\n",
              "      fill: #1967D2;\n",
              "      height: 32px;\n",
              "      padding: 0 0 0 0;\n",
              "      width: 32px;\n",
              "    }\n",
              "\n",
              "    .colab-df-convert:hover {\n",
              "      background-color: #E2EBFA;\n",
              "      box-shadow: 0px 1px 2px rgba(60, 64, 67, 0.3), 0px 1px 3px 1px rgba(60, 64, 67, 0.15);\n",
              "      fill: #174EA6;\n",
              "    }\n",
              "\n",
              "    .colab-df-buttons div {\n",
              "      margin-bottom: 4px;\n",
              "    }\n",
              "\n",
              "    [theme=dark] .colab-df-convert {\n",
              "      background-color: #3B4455;\n",
              "      fill: #D2E3FC;\n",
              "    }\n",
              "\n",
              "    [theme=dark] .colab-df-convert:hover {\n",
              "      background-color: #434B5C;\n",
              "      box-shadow: 0px 1px 3px 1px rgba(0, 0, 0, 0.15);\n",
              "      filter: drop-shadow(0px 1px 2px rgba(0, 0, 0, 0.3));\n",
              "      fill: #FFFFFF;\n",
              "    }\n",
              "  </style>\n",
              "\n",
              "    <script>\n",
              "      const buttonEl =\n",
              "        document.querySelector('#df-a0f95e36-e975-42e0-8b36-c9ae6fbe0432 button.colab-df-convert');\n",
              "      buttonEl.style.display =\n",
              "        google.colab.kernel.accessAllowed ? 'block' : 'none';\n",
              "\n",
              "      async function convertToInteractive(key) {\n",
              "        const element = document.querySelector('#df-a0f95e36-e975-42e0-8b36-c9ae6fbe0432');\n",
              "        const dataTable =\n",
              "          await google.colab.kernel.invokeFunction('convertToInteractive',\n",
              "                                                    [key], {});\n",
              "        if (!dataTable) return;\n",
              "\n",
              "        const docLinkHtml = 'Like what you see? Visit the ' +\n",
              "          '<a target=\"_blank\" href=https://colab.research.google.com/notebooks/data_table.ipynb>data table notebook</a>'\n",
              "          + ' to learn more about interactive tables.';\n",
              "        element.innerHTML = '';\n",
              "        dataTable['output_type'] = 'display_data';\n",
              "        await google.colab.output.renderOutput(dataTable, element);\n",
              "        const docLink = document.createElement('div');\n",
              "        docLink.innerHTML = docLinkHtml;\n",
              "        element.appendChild(docLink);\n",
              "      }\n",
              "    </script>\n",
              "  </div>\n",
              "\n",
              "\n",
              "<div id=\"df-cee48088-8dd5-4f9b-ab62-99470f4cab56\">\n",
              "  <button class=\"colab-df-quickchart\" onclick=\"quickchart('df-cee48088-8dd5-4f9b-ab62-99470f4cab56')\"\n",
              "            title=\"Suggest charts\"\n",
              "            style=\"display:none;\">\n",
              "\n",
              "<svg xmlns=\"http://www.w3.org/2000/svg\" height=\"24px\"viewBox=\"0 0 24 24\"\n",
              "     width=\"24px\">\n",
              "    <g>\n",
              "        <path d=\"M19 3H5c-1.1 0-2 .9-2 2v14c0 1.1.9 2 2 2h14c1.1 0 2-.9 2-2V5c0-1.1-.9-2-2-2zM9 17H7v-7h2v7zm4 0h-2V7h2v10zm4 0h-2v-4h2v4z\"/>\n",
              "    </g>\n",
              "</svg>\n",
              "  </button>\n",
              "\n",
              "<style>\n",
              "  .colab-df-quickchart {\n",
              "      --bg-color: #E8F0FE;\n",
              "      --fill-color: #1967D2;\n",
              "      --hover-bg-color: #E2EBFA;\n",
              "      --hover-fill-color: #174EA6;\n",
              "      --disabled-fill-color: #AAA;\n",
              "      --disabled-bg-color: #DDD;\n",
              "  }\n",
              "\n",
              "  [theme=dark] .colab-df-quickchart {\n",
              "      --bg-color: #3B4455;\n",
              "      --fill-color: #D2E3FC;\n",
              "      --hover-bg-color: #434B5C;\n",
              "      --hover-fill-color: #FFFFFF;\n",
              "      --disabled-bg-color: #3B4455;\n",
              "      --disabled-fill-color: #666;\n",
              "  }\n",
              "\n",
              "  .colab-df-quickchart {\n",
              "    background-color: var(--bg-color);\n",
              "    border: none;\n",
              "    border-radius: 50%;\n",
              "    cursor: pointer;\n",
              "    display: none;\n",
              "    fill: var(--fill-color);\n",
              "    height: 32px;\n",
              "    padding: 0;\n",
              "    width: 32px;\n",
              "  }\n",
              "\n",
              "  .colab-df-quickchart:hover {\n",
              "    background-color: var(--hover-bg-color);\n",
              "    box-shadow: 0 1px 2px rgba(60, 64, 67, 0.3), 0 1px 3px 1px rgba(60, 64, 67, 0.15);\n",
              "    fill: var(--button-hover-fill-color);\n",
              "  }\n",
              "\n",
              "  .colab-df-quickchart-complete:disabled,\n",
              "  .colab-df-quickchart-complete:disabled:hover {\n",
              "    background-color: var(--disabled-bg-color);\n",
              "    fill: var(--disabled-fill-color);\n",
              "    box-shadow: none;\n",
              "  }\n",
              "\n",
              "  .colab-df-spinner {\n",
              "    border: 2px solid var(--fill-color);\n",
              "    border-color: transparent;\n",
              "    border-bottom-color: var(--fill-color);\n",
              "    animation:\n",
              "      spin 1s steps(1) infinite;\n",
              "  }\n",
              "\n",
              "  @keyframes spin {\n",
              "    0% {\n",
              "      border-color: transparent;\n",
              "      border-bottom-color: var(--fill-color);\n",
              "      border-left-color: var(--fill-color);\n",
              "    }\n",
              "    20% {\n",
              "      border-color: transparent;\n",
              "      border-left-color: var(--fill-color);\n",
              "      border-top-color: var(--fill-color);\n",
              "    }\n",
              "    30% {\n",
              "      border-color: transparent;\n",
              "      border-left-color: var(--fill-color);\n",
              "      border-top-color: var(--fill-color);\n",
              "      border-right-color: var(--fill-color);\n",
              "    }\n",
              "    40% {\n",
              "      border-color: transparent;\n",
              "      border-right-color: var(--fill-color);\n",
              "      border-top-color: var(--fill-color);\n",
              "    }\n",
              "    60% {\n",
              "      border-color: transparent;\n",
              "      border-right-color: var(--fill-color);\n",
              "    }\n",
              "    80% {\n",
              "      border-color: transparent;\n",
              "      border-right-color: var(--fill-color);\n",
              "      border-bottom-color: var(--fill-color);\n",
              "    }\n",
              "    90% {\n",
              "      border-color: transparent;\n",
              "      border-bottom-color: var(--fill-color);\n",
              "    }\n",
              "  }\n",
              "</style>\n",
              "\n",
              "  <script>\n",
              "    async function quickchart(key) {\n",
              "      const quickchartButtonEl =\n",
              "        document.querySelector('#' + key + ' button');\n",
              "      quickchartButtonEl.disabled = true;  // To prevent multiple clicks.\n",
              "      quickchartButtonEl.classList.add('colab-df-spinner');\n",
              "      try {\n",
              "        const charts = await google.colab.kernel.invokeFunction(\n",
              "            'suggestCharts', [key], {});\n",
              "      } catch (error) {\n",
              "        console.error('Error during call to suggestCharts:', error);\n",
              "      }\n",
              "      quickchartButtonEl.classList.remove('colab-df-spinner');\n",
              "      quickchartButtonEl.classList.add('colab-df-quickchart-complete');\n",
              "    }\n",
              "    (() => {\n",
              "      let quickchartButtonEl =\n",
              "        document.querySelector('#df-cee48088-8dd5-4f9b-ab62-99470f4cab56 button');\n",
              "      quickchartButtonEl.style.display =\n",
              "        google.colab.kernel.accessAllowed ? 'block' : 'none';\n",
              "    })();\n",
              "  </script>\n",
              "</div>\n",
              "    </div>\n",
              "  </div>\n"
            ],
            "application/vnd.google.colaboratory.intrinsic+json": {
              "type": "dataframe",
              "variable_name": "data"
            }
          },
          "metadata": {},
          "execution_count": 28
        }
      ],
      "source": [
        "data.head()"
      ]
    },
    {
      "cell_type": "markdown",
      "metadata": {
        "id": "ZTSYLLjzjfuF"
      },
      "source": [
        "В столбце **'date_time'** дата и время заезда. Из описания данных известно, что время заезда указали в часовом поясе UTC+0, в формате ISO. Значит, сначала идут год, месяц, день; затем буквенный разделитель даты и времени; часы, минуты и секунды.\n",
        "\n",
        "Давайте познакомимся с методом **to_datetime()**, который переводит строки в даты.\n",
        "\n",
        "В аргументе **format метода to_datetime()** указывают специальные обозначения, порядок которых соответствует порядку чисел в строке с датой:\n",
        "\n",
        "•\t%d — день месяца (от 01 до 31)\n",
        "\n",
        "•\t%m — номер месяца (от 01 до 12)\n",
        "\n",
        "•\t%Y — четырёхзначный номер года (например, 2019)\n",
        "\n",
        "•\tZ или T — стандартный разделитель даты и времени\n",
        "\n",
        "•\t%H — номер часа в 24-часовом формате\n",
        "\n",
        "•\t%I — номер часа в 12-часовом формате\n",
        "\n",
        "•\t%M — минуты (от 00 до 59)\n",
        "\n",
        "•\t%S — секунды (от 00 до 59)\n",
        "\n",
        "Пора научиться:\n",
        "\n",
        "•\tОкруглять даты;\n",
        "\n",
        "•\tДобывать отдельные компоненты из дат, например, день недели;\n",
        "\n",
        "•\t«Сдвигать» даты в другие часовые пояса.\n",
        "\n",
        "О том, что операции предстоит выполнять именно с датами, аналитик сообщает Pandas отдельно, через атрибут **dt** (от англ. **date time**). Атрибут **dt** указывает, что тип данных, к которым будут применены методы, — **datetime**. А значит, **Pandas** не примет их за строки или числа.\n",
        "\n",
        "Чтобы округлить время, применяют метод **dt.round()** (англ. round, «округлять»). В качестве параметра ему передают строку с шагом округления в часах, днях, минутах или секундах:\n",
        "\n",
        "•\t'D' — day (от англ. «день»)\n",
        "\n",
        "•\t'H' — hour (от англ. «час»)\n",
        "\n",
        "•\t'min' или 'T' — minute (от англ. «минута»)\n",
        "\n",
        "•\t'S' — second (от англ. «секунда»)\n",
        "\n",
        "Чаще всего округляют с шагом в один час:\n"
      ]
    },
    {
      "cell_type": "code",
      "execution_count": 29,
      "metadata": {
        "colab": {
          "base_uri": "https://localhost:8080/"
        },
        "id": "yofOxQ6djfuF",
        "outputId": "114e3d85-18a4-4813-865e-52eb011627e6"
      },
      "outputs": [
        {
          "output_type": "stream",
          "name": "stdout",
          "text": [
            "0   2011-03-01 18:00:00\n",
            "Name: time_rounded, dtype: datetime64[ns]\n"
          ]
        }
      ],
      "source": [
        "import pandas as pd\n",
        "\n",
        "df = pd.DataFrame({'time': ['11-03-01 17:34']})\n",
        "df['time'] = pd.to_datetime(df['time'], format='%y-%m-%d %H:%M')\n",
        "df['time_rounded'] = df['time'].dt.round('1H')  # округляем до ближайшего значения с шагом в один час\n",
        "print(df['time_rounded'])\n"
      ]
    },
    {
      "cell_type": "markdown",
      "metadata": {
        "id": "G5VAjR2YjfuF"
      },
      "source": [
        "**dt.round()** округляет до ближайшего значения — не всегда получается в бóльшую сторону. Четверть шестого после округления методом **dt.round()** станет пятью часами:"
      ]
    },
    {
      "cell_type": "code",
      "execution_count": 30,
      "metadata": {
        "colab": {
          "base_uri": "https://localhost:8080/"
        },
        "id": "JeDtLVc3jfuG",
        "outputId": "d33ed616-16ab-497b-8ecf-5d136c95194f"
      },
      "outputs": [
        {
          "output_type": "stream",
          "name": "stdout",
          "text": [
            "0   2011-03-01 17:00:00\n",
            "Name: time_rounded, dtype: datetime64[ns]\n"
          ]
        }
      ],
      "source": [
        "df = pd.DataFrame({'time': ['11-03-01 17:15']})\n",
        "df['time'] = pd.to_datetime(df['time'], format='%y-%m-%d %H:%M')\n",
        "df['time_rounded'] = df['time'].dt.round('1H')  # округляем до ближайшего значения с шагом в один час\n",
        "print(df['time_rounded'])\n"
      ]
    },
    {
      "cell_type": "markdown",
      "metadata": {
        "id": "zgrfjY8HjfuG"
      },
      "source": [
        "Чтобы быть уверенными в том, что время будет округлено к бóльшему значению, обращаются к методу **dt.ceil()** (от англ. ceiling — «потолок»). К меньшему значению, «вниз», округляют методом **dt.floor()** (англ. floor, «пол»)."
      ]
    },
    {
      "cell_type": "code",
      "execution_count": 31,
      "metadata": {
        "colab": {
          "base_uri": "https://localhost:8080/"
        },
        "id": "4F45mjrfjfuG",
        "outputId": "1f58887b-1d93-4854-e598-d84167b57315"
      },
      "outputs": [
        {
          "output_type": "stream",
          "name": "stdout",
          "text": [
            "Время, округлённое вверх 0   2011-03-01 18:00:00\n",
            "Name: ceil, dtype: datetime64[ns]\n",
            "Время, округлённое вниз 0   2011-03-01 17:00:00\n",
            "Name: floor, dtype: datetime64[ns]\n"
          ]
        }
      ],
      "source": [
        "df = pd.DataFrame({'time': ['11-03-01 17:15']})\n",
        "df['time'] = pd.to_datetime(df['time'], format='%y-%m-%d %H:%M')\n",
        "df['ceil'] = df['time'].dt.ceil('1H') # округляем к потолку\n",
        "df['floor'] = df['time'].dt.floor('1H') # округляем к полу\n",
        "print('Время, округлённое вверх', df['ceil'])\n",
        "print('Время, округлённое вниз', df['floor'])\n"
      ]
    },
    {
      "cell_type": "markdown",
      "metadata": {
        "id": "m-dsU1YEjfuG"
      },
      "source": [
        "Номер дня в неделе находят методом **dt.weekday** (англ. weekday, «будний день»). Понедельник — день под номером 0, а воскресенье — шестой день."
      ]
    },
    {
      "cell_type": "code",
      "execution_count": 32,
      "metadata": {
        "colab": {
          "base_uri": "https://localhost:8080/"
        },
        "id": "ijtvfnFMjfuG",
        "outputId": "ab97a30c-862a-46c8-a092-b0e6d524e6a7"
      },
      "outputs": [
        {
          "output_type": "stream",
          "name": "stdout",
          "text": [
            "0    0\n",
            "1    5\n",
            "Name: weekday, dtype: int32\n"
          ]
        }
      ],
      "source": [
        "df = pd.DataFrame({'time': ['11-03-07 17:15', '11-04-02 17:15']}) # пн и сб\n",
        "df['time'] = pd.to_datetime(df['time'], format='%y-%m-%d %H:%M')\n",
        "df['weekday'] = df['time'].dt.weekday\n",
        "print(df['weekday'])\n"
      ]
    },
    {
      "cell_type": "markdown",
      "metadata": {
        "id": "DIpmZHyyjfuG"
      },
      "source": [
        "Иногда нужно переводить время в другой часовой пояс. За временные сдвиги отвечает **pd.Timedelta()** (от англ. time delta — «дельта времени, перепад во времени»). Количество часов передают в параметре: **(hours=10)**.\n",
        "\n",
        "Прибавим 9 часов к московскому времени и узнаем, который час был в Петропавловске-Камчатском, когда в Москве происходили события датафрейма.\n",
        "\n",
        "Можно и наоборот: отнимать время, указав в параметре отрицательное количество часов.\n"
      ]
    },
    {
      "cell_type": "code",
      "execution_count": 33,
      "metadata": {
        "colab": {
          "base_uri": "https://localhost:8080/"
        },
        "id": "IX08r8VQjfuG",
        "outputId": "de294aa8-2e25-443b-9796-dd23bb25f795"
      },
      "outputs": [
        {
          "output_type": "stream",
          "name": "stdout",
          "text": [
            "0   2011-03-08 02:15:00\n",
            "1   2011-05-02 19:20:00\n",
            "Name: petropavlovsk-kamchatsky_time, dtype: datetime64[ns]\n"
          ]
        }
      ],
      "source": [
        "df = pd.DataFrame({'time': ['11-03-07 17:15', '11-05-02 10:20']})\n",
        "df['moscow_time'] = pd.to_datetime(df['time'], format='%y-%m-%d %H:%M')\n",
        "df['petropavlovsk-kamchatsky_time'] = df['moscow_time'] + pd.Timedelta(hours=9)\n",
        "print(df['petropavlovsk-kamchatsky_time'])\n"
      ]
    },
    {
      "cell_type": "markdown",
      "metadata": {
        "id": "MGgiaksVjfuH"
      },
      "source": [
        "### Задача   7\n",
        "Переведите значения в столбце **'date_time'** в формат даты.\n",
        "В аргументе **format** метода **to_datetime()** передайте строку со значениями года, месяца, дня и времени, чтобы получить запись вида: 2018-04-06T16:53:58. Результат сохраните в столбце **'date_time'**.\n",
        "Первые 5 строк таблицы data выведите на экран.\n"
      ]
    },
    {
      "cell_type": "code",
      "execution_count": 34,
      "metadata": {
        "colab": {
          "base_uri": "https://localhost:8080/"
        },
        "id": "5E14vlBfjfuH",
        "outputId": "163315a5-9b74-4dea-a7a6-fb86206a6aac"
      },
      "outputs": [
        {
          "output_type": "stream",
          "name": "stdout",
          "text": [
            "            date_time        id  time_spent     name\n",
            "0 2018-04-06 16:53:58  76144fb2        98.0  Василек\n",
            "1 2018-04-04 17:39:13  76144fb2        15.0  Василек\n",
            "2 2018-04-03 17:28:24  76144fb2       220.0  Василек\n",
            "3 2018-04-07 07:04:41  76144fb2        19.0  Василек\n",
            "4 2018-04-04 13:20:49  76144fb2        14.0  Василек\n"
          ]
        }
      ],
      "source": [
        "#Youre code is here\n",
        "data['date_time'] = pd.to_datetime(data['date_time'],format='%Y%m%dT%H%M%S')\n",
        "print(data.head(5))"
      ]
    },
    {
      "cell_type": "markdown",
      "metadata": {
        "id": "56bYZMQ7jfuH"
      },
      "source": [
        "### Задача   8\n",
        "Напомним, что в датафрейме записано время UTC. Московское рассчитывают как UTC + 3 часа.\n",
        "Создайте столбец **data['local_time']** и сохраните в нём сдвинутую на +3 часа дату и время из столбца **data['date_time']**. Напечатайте первые 5 строк таблицы data.\n"
      ]
    },
    {
      "cell_type": "code",
      "execution_count": 35,
      "metadata": {
        "colab": {
          "base_uri": "https://localhost:8080/"
        },
        "id": "XCSlNCTVjfuH",
        "outputId": "70b98a1d-d011-4e0e-ab52-67c6d9d0aa19"
      },
      "outputs": [
        {
          "output_type": "stream",
          "name": "stdout",
          "text": [
            "            date_time        id  time_spent     name          local_time\n",
            "0 2018-04-06 16:53:58  76144fb2        98.0  Василек 2018-04-06 19:53:58\n",
            "1 2018-04-04 17:39:13  76144fb2        15.0  Василек 2018-04-04 20:39:13\n",
            "2 2018-04-03 17:28:24  76144fb2       220.0  Василек 2018-04-03 20:28:24\n",
            "3 2018-04-07 07:04:41  76144fb2        19.0  Василек 2018-04-07 10:04:41\n",
            "4 2018-04-04 13:20:49  76144fb2        14.0  Василек 2018-04-04 16:20:49\n"
          ]
        }
      ],
      "source": [
        "#Youre code is here\n",
        "data['local_time'] = data['date_time'] + pd.Timedelta(hours=3)\n",
        "print(data.head(5))"
      ]
    },
    {
      "cell_type": "markdown",
      "metadata": {
        "id": "CEFOLOmWjfuH"
      },
      "source": [
        "### Задача   8\n",
        "Создайте столбец **data['date_hour']** с московским временем заезда на АЗС, округлённым до 1 часа методом dt.round(). Напечатайте первые 5 строк."
      ]
    },
    {
      "cell_type": "code",
      "execution_count": 36,
      "metadata": {
        "colab": {
          "base_uri": "https://localhost:8080/"
        },
        "id": "TBKyiObzjfuH",
        "outputId": "34042d69-edd3-4e1e-ae71-3ed068666455"
      },
      "outputs": [
        {
          "output_type": "stream",
          "name": "stdout",
          "text": [
            "            date_time        id  time_spent     name          local_time  \\\n",
            "0 2018-04-06 16:53:58  76144fb2        98.0  Василек 2018-04-06 19:53:58   \n",
            "1 2018-04-04 17:39:13  76144fb2        15.0  Василек 2018-04-04 20:39:13   \n",
            "2 2018-04-03 17:28:24  76144fb2       220.0  Василек 2018-04-03 20:28:24   \n",
            "3 2018-04-07 07:04:41  76144fb2        19.0  Василек 2018-04-07 10:04:41   \n",
            "4 2018-04-04 13:20:49  76144fb2        14.0  Василек 2018-04-04 16:20:49   \n",
            "\n",
            "            date_hour  \n",
            "0 2018-04-06 20:00:00  \n",
            "1 2018-04-04 21:00:00  \n",
            "2 2018-04-03 20:00:00  \n",
            "3 2018-04-07 10:00:00  \n",
            "4 2018-04-04 16:00:00  \n"
          ]
        }
      ],
      "source": [
        "#Youre code is here\n",
        "data['date_hour'] = data['local_time'].dt.round('1H')\n",
        "print(data.head(5))"
      ]
    },
    {
      "cell_type": "code",
      "execution_count": null,
      "metadata": {
        "id": "Q7AfttEmjfuH"
      },
      "outputs": [],
      "source": []
    }
  ],
  "metadata": {
    "kernelspec": {
      "display_name": "Python 3 (ipykernel)",
      "language": "python",
      "name": "python3"
    },
    "language_info": {
      "codemirror_mode": {
        "name": "ipython",
        "version": 3
      },
      "file_extension": ".py",
      "mimetype": "text/x-python",
      "name": "python",
      "nbconvert_exporter": "python",
      "pygments_lexer": "ipython3",
      "version": "3.9.12"
    },
    "colab": {
      "provenance": [],
      "include_colab_link": true
    }
  },
  "nbformat": 4,
  "nbformat_minor": 0
}